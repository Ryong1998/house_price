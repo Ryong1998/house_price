{
 "cells": [
  {
   "cell_type": "code",
   "execution_count": 1,
   "id": "6f7f5e6c",
   "metadata": {},
   "outputs": [
    {
     "name": "stderr",
     "output_type": "stream",
     "text": [
      "C:\\Users\\LG\\AppData\\Local\\Temp\\ipykernel_55656\\1117171307.py:11: DtypeWarning: Columns (10) have mixed types. Specify dtype option on import or set low_memory=False.\n",
      "  df_list.append(pd.read_csv(dir_path+\"\\\\\"+csv_file ,skiprows=15,  encoding='cp949'))\n",
      "C:\\Users\\LG\\AppData\\Local\\Temp\\ipykernel_55656\\1117171307.py:11: DtypeWarning: Columns (10) have mixed types. Specify dtype option on import or set low_memory=False.\n",
      "  df_list.append(pd.read_csv(dir_path+\"\\\\\"+csv_file ,skiprows=15,  encoding='cp949'))\n",
      "C:\\Users\\LG\\AppData\\Local\\Temp\\ipykernel_55656\\1117171307.py:11: DtypeWarning: Columns (10) have mixed types. Specify dtype option on import or set low_memory=False.\n",
      "  df_list.append(pd.read_csv(dir_path+\"\\\\\"+csv_file ,skiprows=15,  encoding='cp949'))\n",
      "C:\\Users\\LG\\AppData\\Local\\Temp\\ipykernel_55656\\1117171307.py:11: DtypeWarning: Columns (10) have mixed types. Specify dtype option on import or set low_memory=False.\n",
      "  df_list.append(pd.read_csv(dir_path+\"\\\\\"+csv_file ,skiprows=15,  encoding='cp949'))\n",
      "C:\\Users\\LG\\AppData\\Local\\Temp\\ipykernel_55656\\1117171307.py:11: DtypeWarning: Columns (10) have mixed types. Specify dtype option on import or set low_memory=False.\n",
      "  df_list.append(pd.read_csv(dir_path+\"\\\\\"+csv_file ,skiprows=15,  encoding='cp949'))\n",
      "C:\\Users\\LG\\AppData\\Local\\Temp\\ipykernel_55656\\1117171307.py:11: DtypeWarning: Columns (10) have mixed types. Specify dtype option on import or set low_memory=False.\n",
      "  df_list.append(pd.read_csv(dir_path+\"\\\\\"+csv_file ,skiprows=15,  encoding='cp949'))\n",
      "C:\\Users\\LG\\AppData\\Local\\Temp\\ipykernel_55656\\1117171307.py:11: DtypeWarning: Columns (10) have mixed types. Specify dtype option on import or set low_memory=False.\n",
      "  df_list.append(pd.read_csv(dir_path+\"\\\\\"+csv_file ,skiprows=15,  encoding='cp949'))\n",
      "C:\\Users\\LG\\AppData\\Local\\Temp\\ipykernel_55656\\1117171307.py:11: DtypeWarning: Columns (10) have mixed types. Specify dtype option on import or set low_memory=False.\n",
      "  df_list.append(pd.read_csv(dir_path+\"\\\\\"+csv_file ,skiprows=15,  encoding='cp949'))\n",
      "C:\\Users\\LG\\AppData\\Local\\Temp\\ipykernel_55656\\1117171307.py:11: DtypeWarning: Columns (10,18) have mixed types. Specify dtype option on import or set low_memory=False.\n",
      "  df_list.append(pd.read_csv(dir_path+\"\\\\\"+csv_file ,skiprows=15,  encoding='cp949'))\n",
      "C:\\Users\\LG\\AppData\\Local\\Temp\\ipykernel_55656\\1117171307.py:11: DtypeWarning: Columns (10,18) have mixed types. Specify dtype option on import or set low_memory=False.\n",
      "  df_list.append(pd.read_csv(dir_path+\"\\\\\"+csv_file ,skiprows=15,  encoding='cp949'))\n"
     ]
    }
   ],
   "source": [
    "import pandas as pd\n",
    "import os\n",
    "\n",
    "\n",
    "dir_path = \"dataset\\\\rent_price\\\\Seoul\"\n",
    "file_list = os.listdir(dir_path)\n",
    "df_list = list()\n",
    "\n",
    "# 해당 폴더 안에 있는 csv 파일들을 읽어서 리스트 안에 데이터프레임들을 담음\n",
    "for csv_file in file_list:\n",
    "    df_list.append(pd.read_csv(dir_path+\"\\\\\"+csv_file ,skiprows=15,  encoding='cp949'))\n"
   ]
  },
  {
   "cell_type": "code",
   "execution_count": 2,
   "id": "7cfddfc3",
   "metadata": {},
   "outputs": [
    {
     "name": "stdout",
     "output_type": "stream",
     "text": [
      "<class 'pandas.core.frame.DataFrame'>\n",
      "RangeIndex: 231846 entries, 0 to 231845\n",
      "Data columns (total 19 columns):\n",
      " #   Column         Non-Null Count   Dtype  \n",
      "---  ------         --------------   -----  \n",
      " 0   시군구            231846 non-null  object \n",
      " 1   번지             231657 non-null  object \n",
      " 2   본번             231819 non-null  float64\n",
      " 3   부번             231819 non-null  float64\n",
      " 4   단지명            231846 non-null  object \n",
      " 5   전월세구분          231846 non-null  object \n",
      " 6   전용면적(㎡)        231846 non-null  float64\n",
      " 7   계약년월           231846 non-null  int64  \n",
      " 8   계약일            231846 non-null  int64  \n",
      " 9   보증금(만원)        231846 non-null  object \n",
      " 10  월세(만원)         231846 non-null  object \n",
      " 11  층              231846 non-null  int64  \n",
      " 12  건축년도           231749 non-null  float64\n",
      " 13  도로명            231846 non-null  object \n",
      " 14  계약기간           231846 non-null  object \n",
      " 15  계약구분           231846 non-null  object \n",
      " 16  갱신요구권 사용       231846 non-null  object \n",
      " 17  종전계약 보증금 (만원)  188985 non-null  object \n",
      " 18  종전계약 월세 (만원)   188985 non-null  object \n",
      "dtypes: float64(4), int64(3), object(12)\n",
      "memory usage: 33.6+ MB\n"
     ]
    }
   ],
   "source": [
    "df_list[-1].info() # 리스트 안에 잘 담겼는지 확인"
   ]
  },
  {
   "cell_type": "code",
   "execution_count": 3,
   "id": "e347efba",
   "metadata": {},
   "outputs": [
    {
     "name": "stdout",
     "output_type": "stream",
     "text": [
      "<class 'pandas.core.frame.DataFrame'>\n",
      "RangeIndex: 2085775 entries, 0 to 2085774\n",
      "Data columns (total 19 columns):\n",
      " #   Column         Dtype  \n",
      "---  ------         -----  \n",
      " 0   시군구            object \n",
      " 1   번지             object \n",
      " 2   본번             float64\n",
      " 3   부번             float64\n",
      " 4   단지명            object \n",
      " 5   전월세구분          object \n",
      " 6   전용면적(㎡)        float64\n",
      " 7   계약년월           int64  \n",
      " 8   계약일            int64  \n",
      " 9   보증금(만원)        object \n",
      " 10  월세(만원)         object \n",
      " 11  층              float64\n",
      " 12  건축년도           float64\n",
      " 13  도로명            object \n",
      " 14  계약기간           object \n",
      " 15  계약구분           object \n",
      " 16  갱신요구권 사용       object \n",
      " 17  종전계약 보증금 (만원)  object \n",
      " 18  종전계약 월세 (만원)   object \n",
      "dtypes: float64(5), int64(2), object(12)\n",
      "memory usage: 302.4+ MB\n"
     ]
    }
   ],
   "source": [
    "# 모든 데이터프레임을을 통합\n",
    "df_default = df_list[0]\n",
    "for df_csv in df_list[1:]:\n",
    "    df_default = pd.concat([df_default, df_csv], axis=0)\n",
    "df_default.reset_index(drop=True, inplace=True) # concat으로 합쳐질 때 인덱스 재설정\n",
    "df_default.info() # 데이터프레임 합친 결과 확인"
   ]
  },
  {
   "cell_type": "code",
   "execution_count": 4,
   "id": "f8b16af3",
   "metadata": {},
   "outputs": [
    {
     "data": {
      "text/plain": [
       "시군구               서울특별시 강남구 개포동\n",
       "번지                        655-2\n",
       "본번                        655.0\n",
       "부번                          2.0\n",
       "단지명              개포2차현대아파트(220)\n",
       "전월세구분                        전세\n",
       "전용면적(㎡)                   77.75\n",
       "계약년월                     201101\n",
       "계약일                          18\n",
       "보증금(만원)                  20,000\n",
       "월세(만원)                        0\n",
       "층                           8.0\n",
       "건축년도                     1988.0\n",
       "도로명                     언주로 103\n",
       "계약기간                          -\n",
       "계약구분                          -\n",
       "갱신요구권 사용                      -\n",
       "종전계약 보증금 (만원)               NaN\n",
       "종전계약 월세 (만원)                NaN\n",
       "Name: 1, dtype: object"
      ]
     },
     "execution_count": 4,
     "metadata": {},
     "output_type": "execute_result"
    }
   ],
   "source": [
    "df_default.loc[1]"
   ]
  },
  {
   "cell_type": "code",
   "execution_count": 5,
   "id": "b1aa12ce",
   "metadata": {},
   "outputs": [
    {
     "data": {
      "text/html": [
       "<div>\n",
       "<style scoped>\n",
       "    .dataframe tbody tr th:only-of-type {\n",
       "        vertical-align: middle;\n",
       "    }\n",
       "\n",
       "    .dataframe tbody tr th {\n",
       "        vertical-align: top;\n",
       "    }\n",
       "\n",
       "    .dataframe thead th {\n",
       "        text-align: right;\n",
       "    }\n",
       "</style>\n",
       "<table border=\"1\" class=\"dataframe\">\n",
       "  <thead>\n",
       "    <tr style=\"text-align: right;\">\n",
       "      <th></th>\n",
       "      <th>시군구</th>\n",
       "      <th>번지</th>\n",
       "      <th>본번</th>\n",
       "      <th>부번</th>\n",
       "      <th>단지명</th>\n",
       "      <th>전월세구분</th>\n",
       "      <th>전용면적(㎡)</th>\n",
       "      <th>계약년월</th>\n",
       "      <th>계약일</th>\n",
       "      <th>보증금(만원)</th>\n",
       "      <th>월세(만원)</th>\n",
       "      <th>층</th>\n",
       "      <th>건축년도</th>\n",
       "      <th>도로명</th>\n",
       "      <th>계약기간</th>\n",
       "      <th>계약구분</th>\n",
       "      <th>갱신요구권 사용</th>\n",
       "      <th>종전계약 보증금 (만원)</th>\n",
       "      <th>종전계약 월세 (만원)</th>\n",
       "    </tr>\n",
       "  </thead>\n",
       "  <tbody>\n",
       "    <tr>\n",
       "      <th>0</th>\n",
       "      <td>서울특별시 강남구 개포동</td>\n",
       "      <td>655-2</td>\n",
       "      <td>655.0</td>\n",
       "      <td>2.0</td>\n",
       "      <td>개포2차현대아파트(220)</td>\n",
       "      <td>전세</td>\n",
       "      <td>77.75</td>\n",
       "      <td>201101</td>\n",
       "      <td>5</td>\n",
       "      <td>35,000</td>\n",
       "      <td>0</td>\n",
       "      <td>7.0</td>\n",
       "      <td>1988.0</td>\n",
       "      <td>언주로 103</td>\n",
       "      <td>-</td>\n",
       "      <td>-</td>\n",
       "      <td>-</td>\n",
       "      <td>NaN</td>\n",
       "      <td>NaN</td>\n",
       "    </tr>\n",
       "    <tr>\n",
       "      <th>1</th>\n",
       "      <td>서울특별시 강남구 개포동</td>\n",
       "      <td>655-2</td>\n",
       "      <td>655.0</td>\n",
       "      <td>2.0</td>\n",
       "      <td>개포2차현대아파트(220)</td>\n",
       "      <td>전세</td>\n",
       "      <td>77.75</td>\n",
       "      <td>201101</td>\n",
       "      <td>18</td>\n",
       "      <td>20,000</td>\n",
       "      <td>0</td>\n",
       "      <td>8.0</td>\n",
       "      <td>1988.0</td>\n",
       "      <td>언주로 103</td>\n",
       "      <td>-</td>\n",
       "      <td>-</td>\n",
       "      <td>-</td>\n",
       "      <td>NaN</td>\n",
       "      <td>NaN</td>\n",
       "    </tr>\n",
       "    <tr>\n",
       "      <th>2</th>\n",
       "      <td>서울특별시 강남구 개포동</td>\n",
       "      <td>655-2</td>\n",
       "      <td>655.0</td>\n",
       "      <td>2.0</td>\n",
       "      <td>개포2차현대아파트(220)</td>\n",
       "      <td>전세</td>\n",
       "      <td>77.75</td>\n",
       "      <td>201102</td>\n",
       "      <td>1</td>\n",
       "      <td>24,000</td>\n",
       "      <td>0</td>\n",
       "      <td>5.0</td>\n",
       "      <td>1988.0</td>\n",
       "      <td>언주로 103</td>\n",
       "      <td>-</td>\n",
       "      <td>-</td>\n",
       "      <td>-</td>\n",
       "      <td>NaN</td>\n",
       "      <td>NaN</td>\n",
       "    </tr>\n",
       "    <tr>\n",
       "      <th>3</th>\n",
       "      <td>서울특별시 강남구 개포동</td>\n",
       "      <td>655-2</td>\n",
       "      <td>655.0</td>\n",
       "      <td>2.0</td>\n",
       "      <td>개포2차현대아파트(220)</td>\n",
       "      <td>전세</td>\n",
       "      <td>77.75</td>\n",
       "      <td>201102</td>\n",
       "      <td>11</td>\n",
       "      <td>31,000</td>\n",
       "      <td>0</td>\n",
       "      <td>9.0</td>\n",
       "      <td>1988.0</td>\n",
       "      <td>언주로 103</td>\n",
       "      <td>-</td>\n",
       "      <td>-</td>\n",
       "      <td>-</td>\n",
       "      <td>NaN</td>\n",
       "      <td>NaN</td>\n",
       "    </tr>\n",
       "    <tr>\n",
       "      <th>4</th>\n",
       "      <td>서울특별시 강남구 개포동</td>\n",
       "      <td>655-2</td>\n",
       "      <td>655.0</td>\n",
       "      <td>2.0</td>\n",
       "      <td>개포2차현대아파트(220)</td>\n",
       "      <td>전세</td>\n",
       "      <td>77.75</td>\n",
       "      <td>201102</td>\n",
       "      <td>24</td>\n",
       "      <td>30,500</td>\n",
       "      <td>0</td>\n",
       "      <td>9.0</td>\n",
       "      <td>1988.0</td>\n",
       "      <td>언주로 103</td>\n",
       "      <td>-</td>\n",
       "      <td>-</td>\n",
       "      <td>-</td>\n",
       "      <td>NaN</td>\n",
       "      <td>NaN</td>\n",
       "    </tr>\n",
       "  </tbody>\n",
       "</table>\n",
       "</div>"
      ],
      "text/plain": [
       "             시군구     번지     본번   부번             단지명 전월세구분  전용면적(㎡)    계약년월  \\\n",
       "0  서울특별시 강남구 개포동  655-2  655.0  2.0  개포2차현대아파트(220)    전세    77.75  201101   \n",
       "1  서울특별시 강남구 개포동  655-2  655.0  2.0  개포2차현대아파트(220)    전세    77.75  201101   \n",
       "2  서울특별시 강남구 개포동  655-2  655.0  2.0  개포2차현대아파트(220)    전세    77.75  201102   \n",
       "3  서울특별시 강남구 개포동  655-2  655.0  2.0  개포2차현대아파트(220)    전세    77.75  201102   \n",
       "4  서울특별시 강남구 개포동  655-2  655.0  2.0  개포2차현대아파트(220)    전세    77.75  201102   \n",
       "\n",
       "   계약일 보증금(만원) 월세(만원)    층    건축년도      도로명 계약기간 계약구분 갱신요구권 사용 종전계약 보증금 (만원)  \\\n",
       "0    5  35,000      0  7.0  1988.0  언주로 103    -    -        -           NaN   \n",
       "1   18  20,000      0  8.0  1988.0  언주로 103    -    -        -           NaN   \n",
       "2    1  24,000      0  5.0  1988.0  언주로 103    -    -        -           NaN   \n",
       "3   11  31,000      0  9.0  1988.0  언주로 103    -    -        -           NaN   \n",
       "4   24  30,500      0  9.0  1988.0  언주로 103    -    -        -           NaN   \n",
       "\n",
       "  종전계약 월세 (만원)  \n",
       "0          NaN  \n",
       "1          NaN  \n",
       "2          NaN  \n",
       "3          NaN  \n",
       "4          NaN  "
      ]
     },
     "execution_count": 5,
     "metadata": {},
     "output_type": "execute_result"
    }
   ],
   "source": [
    "df_default.head()"
   ]
  },
  {
   "cell_type": "code",
   "execution_count": 6,
   "id": "a91bcf6d",
   "metadata": {
    "scrolled": true
   },
   "outputs": [
    {
     "data": {
      "text/plain": [
       "시군구                    0\n",
       "번지                  1586\n",
       "본번                   234\n",
       "부번                   234\n",
       "단지명                    0\n",
       "전월세구분                  0\n",
       "전용면적(㎡)               36\n",
       "계약년월                   0\n",
       "계약일                    0\n",
       "보증금(만원)                0\n",
       "월세(만원)                 0\n",
       "층                     36\n",
       "건축년도                 249\n",
       "도로명                    0\n",
       "계약기간                   0\n",
       "계약구분                   0\n",
       "갱신요구권 사용               0\n",
       "종전계약 보증금 (만원)    1793799\n",
       "종전계약 월세 (만원)     1793799\n",
       "dtype: int64"
      ]
     },
     "execution_count": 6,
     "metadata": {},
     "output_type": "execute_result"
    }
   ],
   "source": [
    "df_default.isnull().sum() # 번지, 본번, 부번이 null 값들이 있음"
   ]
  },
  {
   "cell_type": "code",
   "execution_count": 7,
   "id": "a3ec1c44",
   "metadata": {},
   "outputs": [
    {
     "data": {
      "text/plain": [
       "array(['전세', '월세'], dtype=object)"
      ]
     },
     "execution_count": 7,
     "metadata": {},
     "output_type": "execute_result"
    }
   ],
   "source": [
    "df_default['전월세구분'].unique()"
   ]
  },
  {
   "cell_type": "markdown",
   "id": "30611bfa",
   "metadata": {},
   "source": [
    "## 전세 데이터 프레임 생성 - apartment_deal 참조"
   ]
  },
  {
   "cell_type": "markdown",
   "id": "49229c37",
   "metadata": {},
   "source": [
    "- apartment_deal 과 진행 과정이 거의 동일하기에 한 셀로 합쳐서 진행\n",
    "- 주석 부분들은 중간과정 확인 부분"
   ]
  },
  {
   "cell_type": "code",
   "execution_count": 8,
   "id": "fa54e5f8",
   "metadata": {},
   "outputs": [],
   "source": [
    "# 전세 데이터 프레임 생성 - 주석부분은 중간에서 값 확인하는 부분들\n",
    "df_full_rent = df_default.loc[df_default['전월세구분']=='전세',['시군구','본번','부번','도로명','계약년월','계약일','보증금(만원)','층','단지명']].copy()\n",
    "df_full_rent.columns = ['address','main_number','sub_number','road','year_month','day','full_rent_price','floor','name']\n",
    "# print(df_full_rent.head())\n",
    "# print(df_full_rent.info())\n",
    "\n",
    "df_full_rent = df_full_rent.astype({'full_rent_price':'str','year_month':'str','day':'str','full_rent_price':'str'})\n",
    "df_full_rent[\"full_rent_price\"] = df_full_rent[\"full_rent_price\"].str.replace(\",\", \"\")\n",
    "df_full_rent.loc[df_full_rent[\"day\"].str.len()==1,\"day\"]='0'+df_full_rent.loc[df_full_rent[\"day\"].str.len()==1,\"day\"] # 일이 있는 컬럼에서 1자리 숫자인 경우 앞에 0을 추가성\n",
    "df_full_rent['year'] = df_full_rent['year_month'].str[0:4] # 연,월 합쳐져 있는 컬럼에서 연도만 추출\n",
    "df_full_rent['month'] = df_full_rent['year_month'].str[4:] # 연,월 합쳐져 있는 컬럼에서 월만 추출\n",
    "df_full_rent['date'] = pd.to_datetime(df_full_rent['year']+df_full_rent['month']+df_full_rent['day']) # 일자들을 합쳐서 date 컬럼 생\n",
    "df_full_rent = df_full_rent.astype({'year':'int64','month':'int64','day':'int64','full_rent_price':'int64'})\n",
    "df_full_rent = df_full_rent.drop(['year_month'], axis=1) # 사용 안하는 컬럼들 제거\n",
    "# print(df_full_rent.head())\n",
    "# print(df_full_rent.info())\n",
    "\n",
    "df_full_rent[\"address_0\"] = df_full_rent[\"address\"].str.split(' ',expand=True)[0] # '시' 만 추출해야 하나, 서울만 함으로 일단은 실행 X\n",
    "df_full_rent[\"address_1\"] = df_full_rent[\"address\"].str.split(' ',expand=True)[1] # '구' 만 추출\n",
    "df_full_rent[\"address_2\"] = df_full_rent[\"address\"].str.split(' ',expand=True)[2] # '동' 만 추출\n",
    "df_full_rent[\"road_name\"] = df_full_rent[\"road\"].str.split(' ',expand=True)[0] # '도로명' 만 추출\n",
    "df_full_rent[\"road_number\"] = df_full_rent[\"road\"].str.split(' ',expand=True)[1] # '도로숫자' 만 추출\n",
    "df_full_rent= df_full_rent[['year','month','day','address_0','address_1','address_2','main_number','sub_number','road_name','road_number','floor',\"full_rent_price\",'name','date']] # 사용할 컬럼만 선택\n",
    "# print(df_full_rent.head())\n",
    "# print(df_full_rent.info())\n",
    "# print(df_full_rent.isnull().sum())\n",
    "\n",
    "df_full_rent = df_full_rent.replace('', None) # ''값만 있는 값들을 null 값들로 수정\n",
    "# print(df_full_rent.isnull().sum())\n",
    "\n",
    "# df_full_rent[((df_full_rent['main_number'].isnull()) &(df_full_rent['sub_number'].notnull()))\n",
    "#   |((df_full_rent['main_number'].notnull()) &(df_full_rent['sub_number'].isnull()))]\n",
    "\n",
    "# df_full_rent[((df_full_rent['road_name'].isnull()) | (df_full_rent['road_number'].isnull())) & (df_full_rent['main_number'].isnull())] \n",
    "\n",
    "# df_full_rent.loc[df_full_rent['main_number'].isnull(),['address_0','address_1','address_2','main_number','sub_number','road_name','road_number','name']]\n",
    "\n",
    "# df_full_rent.loc[df_full_rent['main_number'].isnull(),'name'].unique()\n",
    "\n",
    "# df_full_rent.loc[df_full_rent['name']=='힐스테이트 서초 젠트리스',:]\n",
    "\n",
    "df_full_rent.loc[df_full_rent['name']=='힐스테이트 서초 젠트리스','main_number'] = 557\n",
    "df_full_rent.loc[df_full_rent['name']=='힐스테이트 서초 젠트리스','sub_number'] = 0\n",
    "\n",
    "\n",
    "df_full_rent = df_full_rent[['year','month','day','address_0','address_1','address_2','main_number','sub_number','name','floor','full_rent_price','date']].copy()\n",
    "df_full_rent.columns =['year','month','day','address_0','address_1','address_2','address_3','address_4','name','floor','full_rent_price','date']\n",
    "# df_full_rent.head()\n",
    "\n",
    "# df_full_rent.info() "
   ]
  },
  {
   "cell_type": "markdown",
   "id": "83e9005d",
   "metadata": {},
   "source": [
    "### 전세 부분 'floor' null 값 해결"
   ]
  },
  {
   "cell_type": "code",
   "execution_count": 9,
   "id": "65a12059",
   "metadata": {},
   "outputs": [
    {
     "data": {
      "text/html": [
       "<div>\n",
       "<style scoped>\n",
       "    .dataframe tbody tr th:only-of-type {\n",
       "        vertical-align: middle;\n",
       "    }\n",
       "\n",
       "    .dataframe tbody tr th {\n",
       "        vertical-align: top;\n",
       "    }\n",
       "\n",
       "    .dataframe thead th {\n",
       "        text-align: right;\n",
       "    }\n",
       "</style>\n",
       "<table border=\"1\" class=\"dataframe\">\n",
       "  <thead>\n",
       "    <tr style=\"text-align: right;\">\n",
       "      <th></th>\n",
       "      <th>year</th>\n",
       "      <th>month</th>\n",
       "      <th>day</th>\n",
       "      <th>address_0</th>\n",
       "      <th>address_1</th>\n",
       "      <th>address_2</th>\n",
       "      <th>address_3</th>\n",
       "      <th>address_4</th>\n",
       "      <th>name</th>\n",
       "      <th>floor</th>\n",
       "      <th>full_rent_price</th>\n",
       "      <th>date</th>\n",
       "    </tr>\n",
       "  </thead>\n",
       "  <tbody>\n",
       "    <tr>\n",
       "      <th>357440</th>\n",
       "      <td>2013</td>\n",
       "      <td>11</td>\n",
       "      <td>16</td>\n",
       "      <td>서울특별시</td>\n",
       "      <td>노원구</td>\n",
       "      <td>공릉동</td>\n",
       "      <td>683.0</td>\n",
       "      <td>14.0</td>\n",
       "      <td>한일휴니스빌</td>\n",
       "      <td>NaN</td>\n",
       "      <td>8000</td>\n",
       "      <td>2013-11-16</td>\n",
       "    </tr>\n",
       "    <tr>\n",
       "      <th>375219</th>\n",
       "      <td>2013</td>\n",
       "      <td>11</td>\n",
       "      <td>30</td>\n",
       "      <td>서울특별시</td>\n",
       "      <td>동대문구</td>\n",
       "      <td>장안동</td>\n",
       "      <td>312.0</td>\n",
       "      <td>8.0</td>\n",
       "      <td>태솔에버빌</td>\n",
       "      <td>NaN</td>\n",
       "      <td>12000</td>\n",
       "      <td>2013-11-30</td>\n",
       "    </tr>\n",
       "    <tr>\n",
       "      <th>389892</th>\n",
       "      <td>2013</td>\n",
       "      <td>1</td>\n",
       "      <td>17</td>\n",
       "      <td>서울특별시</td>\n",
       "      <td>서대문구</td>\n",
       "      <td>창천동</td>\n",
       "      <td>501.0</td>\n",
       "      <td>14.0</td>\n",
       "      <td>삼성아트빌</td>\n",
       "      <td>NaN</td>\n",
       "      <td>9000</td>\n",
       "      <td>2013-01-17</td>\n",
       "    </tr>\n",
       "    <tr>\n",
       "      <th>439901</th>\n",
       "      <td>2013</td>\n",
       "      <td>1</td>\n",
       "      <td>20</td>\n",
       "      <td>서울특별시</td>\n",
       "      <td>영등포구</td>\n",
       "      <td>영등포동4가</td>\n",
       "      <td>103.0</td>\n",
       "      <td>0.0</td>\n",
       "      <td>영등포그랑그루</td>\n",
       "      <td>NaN</td>\n",
       "      <td>8000</td>\n",
       "      <td>2013-01-20</td>\n",
       "    </tr>\n",
       "    <tr>\n",
       "      <th>490009</th>\n",
       "      <td>2014</td>\n",
       "      <td>2</td>\n",
       "      <td>19</td>\n",
       "      <td>서울특별시</td>\n",
       "      <td>강서구</td>\n",
       "      <td>화곡동</td>\n",
       "      <td>29.0</td>\n",
       "      <td>47.0</td>\n",
       "      <td>드림하우스(29-47)</td>\n",
       "      <td>NaN</td>\n",
       "      <td>9500</td>\n",
       "      <td>2014-02-19</td>\n",
       "    </tr>\n",
       "  </tbody>\n",
       "</table>\n",
       "</div>"
      ],
      "text/plain": [
       "        year  month  day address_0 address_1 address_2  address_3  address_4  \\\n",
       "357440  2013     11   16     서울특별시       노원구       공릉동      683.0       14.0   \n",
       "375219  2013     11   30     서울특별시      동대문구       장안동      312.0        8.0   \n",
       "389892  2013      1   17     서울특별시      서대문구       창천동      501.0       14.0   \n",
       "439901  2013      1   20     서울특별시      영등포구    영등포동4가      103.0        0.0   \n",
       "490009  2014      2   19     서울특별시       강서구       화곡동       29.0       47.0   \n",
       "\n",
       "                name  floor  full_rent_price       date  \n",
       "357440        한일휴니스빌    NaN             8000 2013-11-16  \n",
       "375219         태솔에버빌    NaN            12000 2013-11-30  \n",
       "389892         삼성아트빌    NaN             9000 2013-01-17  \n",
       "439901       영등포그랑그루    NaN             8000 2013-01-20  \n",
       "490009  드림하우스(29-47)    NaN             9500 2014-02-19  "
      ]
     },
     "execution_count": 9,
     "metadata": {},
     "output_type": "execute_result"
    }
   ],
   "source": [
    "# floor의 빈 칸들 해결\n",
    "df_full_rent[df_full_rent['floor'].isnull()].tail()"
   ]
  },
  {
   "cell_type": "code",
   "execution_count": 10,
   "id": "456a1dc6",
   "metadata": {},
   "outputs": [],
   "source": [
    "# 컬럼별 값들을 리스트 화\n",
    "add_1 = list(df_full_rent.loc[df_full_rent['floor'].isnull(),'address_1'])\n",
    "add_2 = list(df_full_rent.loc[df_full_rent['floor'].isnull(),'address_2'])\n",
    "add_3 = list(df_full_rent.loc[df_full_rent['floor'].isnull(),'address_3'])\n",
    "add_4 = list(df_full_rent.loc[df_full_rent['floor'].isnull(),'address_4'])\n",
    "floor_list = list()"
   ]
  },
  {
   "cell_type": "code",
   "execution_count": 11,
   "id": "5413ed75",
   "metadata": {},
   "outputs": [
    {
     "name": "stdout",
     "output_type": "stream",
     "text": [
      "[3.0, 4.0, 14.0, 14.0, 4.0, 10.0, 10.0, 10.0, 10.0, 10.0, 10.0, 10.0, 10.0, 10.0, 7.0, 7.0, 7.0, 6.0, 6.0, 6.0, 6.0, 4.0, 3.0, 11.0, '']\n"
     ]
    }
   ],
   "source": [
    "# floor_list 에 값 추가\n",
    "for i in range(len(add_1)):\n",
    "    # 해당 주소에서 가장 많이 거래되었던 층수를 null 값에 채울거임\n",
    "    if (len(df_full_rent.loc[(df_full_rent['address_1'] ==add_1[i]) & \n",
    "                     (df_full_rent['address_2'] ==add_2[i]) &\n",
    "                     (df_full_rent['address_3'] ==add_3[i]) &\n",
    "                     (df_full_rent['address_4'] ==add_4[i]),\n",
    "                     'floor'].value_counts())) == 0:\n",
    "\n",
    "        floor_list.append('')\n",
    "    else:\n",
    "        # 해당 주소에서 가장 많이 거래되었던 층수를 null 값에 채울거임\n",
    "        floor_list.append(df_full_rent.loc[(df_full_rent['address_1'] ==add_1[i]) & \n",
    "                     (df_full_rent['address_2'] ==add_2[i]) &\n",
    "                     (df_full_rent['address_3'] ==add_3[i]) &\n",
    "                     (df_full_rent['address_4'] ==add_4[i]),\n",
    "                     'floor'].value_counts().idxmax())\n",
    "print(floor_list)"
   ]
  },
  {
   "cell_type": "code",
   "execution_count": 12,
   "id": "2755ed28",
   "metadata": {},
   "outputs": [
    {
     "name": "stdout",
     "output_type": "stream",
     "text": [
      "25 25 25 25 25\n"
     ]
    }
   ],
   "source": [
    "# len을 통해서 리스트들이 다 만들어 졌는지 확인\n",
    "print(len(add_1),len(add_2),len(add_3),len(add_4),len(floor_list)) "
   ]
  },
  {
   "cell_type": "code",
   "execution_count": 13,
   "id": "f4af820d",
   "metadata": {},
   "outputs": [
    {
     "data": {
      "text/html": [
       "<div>\n",
       "<style scoped>\n",
       "    .dataframe tbody tr th:only-of-type {\n",
       "        vertical-align: middle;\n",
       "    }\n",
       "\n",
       "    .dataframe tbody tr th {\n",
       "        vertical-align: top;\n",
       "    }\n",
       "\n",
       "    .dataframe thead th {\n",
       "        text-align: right;\n",
       "    }\n",
       "</style>\n",
       "<table border=\"1\" class=\"dataframe\">\n",
       "  <thead>\n",
       "    <tr style=\"text-align: right;\">\n",
       "      <th></th>\n",
       "      <th>year</th>\n",
       "      <th>month</th>\n",
       "      <th>day</th>\n",
       "      <th>address_0</th>\n",
       "      <th>address_1</th>\n",
       "      <th>address_2</th>\n",
       "      <th>address_3</th>\n",
       "      <th>address_4</th>\n",
       "      <th>name</th>\n",
       "      <th>floor</th>\n",
       "      <th>full_rent_price</th>\n",
       "      <th>date</th>\n",
       "    </tr>\n",
       "  </thead>\n",
       "  <tbody>\n",
       "    <tr>\n",
       "      <th>490009</th>\n",
       "      <td>2014</td>\n",
       "      <td>2</td>\n",
       "      <td>19</td>\n",
       "      <td>서울특별시</td>\n",
       "      <td>강서구</td>\n",
       "      <td>화곡동</td>\n",
       "      <td>29.0</td>\n",
       "      <td>47.0</td>\n",
       "      <td>드림하우스(29-47)</td>\n",
       "      <td>NaN</td>\n",
       "      <td>9500</td>\n",
       "      <td>2014-02-19</td>\n",
       "    </tr>\n",
       "  </tbody>\n",
       "</table>\n",
       "</div>"
      ],
      "text/plain": [
       "        year  month  day address_0 address_1 address_2  address_3  address_4  \\\n",
       "490009  2014      2   19     서울특별시       강서구       화곡동       29.0       47.0   \n",
       "\n",
       "                name  floor  full_rent_price       date  \n",
       "490009  드림하우스(29-47)    NaN             9500 2014-02-19  "
      ]
     },
     "execution_count": 13,
     "metadata": {},
     "output_type": "execute_result"
    }
   ],
   "source": [
    "# 맨 마지막 row가 '' 여서 해당 row의 floor 값을 채우기 위해 참조할 값을 확인 -> 없음\n",
    "# 해당은 floor를 알수있는 방법이 없음 - 다른 참조할만할 floor 값들이 없음 -> 추후 제거 필요\n",
    "df_full_rent.loc[(df_full_rent['address_3']==29)&(df_full_rent['address_4']==47),:]"
   ]
  },
  {
   "cell_type": "code",
   "execution_count": 14,
   "id": "1c1ad7ed",
   "metadata": {},
   "outputs": [],
   "source": [
    "# floor가 null인 값들을 해결\n",
    "for i in range(len(add_1)):\n",
    "    df_full_rent.loc[(df_full_rent['address_1'] ==add_1[i]) & \n",
    "                         (df_full_rent['address_2'] ==add_2[i]) &\n",
    "                         (df_full_rent['address_3'] ==add_3[i]) &\n",
    "                         (df_full_rent['address_4'] ==add_4[i]),\n",
    "                         'floor']=floor_list[i]"
   ]
  },
  {
   "cell_type": "code",
   "execution_count": 15,
   "id": "b189fa88",
   "metadata": {},
   "outputs": [
    {
     "data": {
      "text/html": [
       "<div>\n",
       "<style scoped>\n",
       "    .dataframe tbody tr th:only-of-type {\n",
       "        vertical-align: middle;\n",
       "    }\n",
       "\n",
       "    .dataframe tbody tr th {\n",
       "        vertical-align: top;\n",
       "    }\n",
       "\n",
       "    .dataframe thead th {\n",
       "        text-align: right;\n",
       "    }\n",
       "</style>\n",
       "<table border=\"1\" class=\"dataframe\">\n",
       "  <thead>\n",
       "    <tr style=\"text-align: right;\">\n",
       "      <th></th>\n",
       "      <th>year</th>\n",
       "      <th>month</th>\n",
       "      <th>day</th>\n",
       "      <th>address_0</th>\n",
       "      <th>address_1</th>\n",
       "      <th>address_2</th>\n",
       "      <th>address_3</th>\n",
       "      <th>address_4</th>\n",
       "      <th>name</th>\n",
       "      <th>floor</th>\n",
       "      <th>full_rent_price</th>\n",
       "      <th>date</th>\n",
       "    </tr>\n",
       "  </thead>\n",
       "  <tbody>\n",
       "    <tr>\n",
       "      <th>490009</th>\n",
       "      <td>2014</td>\n",
       "      <td>2</td>\n",
       "      <td>19</td>\n",
       "      <td>서울특별시</td>\n",
       "      <td>강서구</td>\n",
       "      <td>화곡동</td>\n",
       "      <td>29.0</td>\n",
       "      <td>47.0</td>\n",
       "      <td>드림하우스(29-47)</td>\n",
       "      <td></td>\n",
       "      <td>9500</td>\n",
       "      <td>2014-02-19</td>\n",
       "    </tr>\n",
       "  </tbody>\n",
       "</table>\n",
       "</div>"
      ],
      "text/plain": [
       "        year  month  day address_0 address_1 address_2  address_3  address_4  \\\n",
       "490009  2014      2   19     서울특별시       강서구       화곡동       29.0       47.0   \n",
       "\n",
       "                name floor  full_rent_price       date  \n",
       "490009  드림하우스(29-47)                   9500 2014-02-19  "
      ]
     },
     "execution_count": 15,
     "metadata": {},
     "output_type": "execute_result"
    }
   ],
   "source": [
    "# null 대신 ''이 잘 들어있는지 확인\n",
    "df_full_rent.loc[df_full_rent['floor']=='',:]"
   ]
  },
  {
   "cell_type": "code",
   "execution_count": 16,
   "id": "b9b7cca4",
   "metadata": {
    "scrolled": true
   },
   "outputs": [
    {
     "data": {
      "text/html": [
       "<div>\n",
       "<style scoped>\n",
       "    .dataframe tbody tr th:only-of-type {\n",
       "        vertical-align: middle;\n",
       "    }\n",
       "\n",
       "    .dataframe tbody tr th {\n",
       "        vertical-align: top;\n",
       "    }\n",
       "\n",
       "    .dataframe thead th {\n",
       "        text-align: right;\n",
       "    }\n",
       "</style>\n",
       "<table border=\"1\" class=\"dataframe\">\n",
       "  <thead>\n",
       "    <tr style=\"text-align: right;\">\n",
       "      <th></th>\n",
       "      <th>year</th>\n",
       "      <th>month</th>\n",
       "      <th>day</th>\n",
       "      <th>address_0</th>\n",
       "      <th>address_1</th>\n",
       "      <th>address_2</th>\n",
       "      <th>address_3</th>\n",
       "      <th>address_4</th>\n",
       "      <th>name</th>\n",
       "      <th>floor</th>\n",
       "      <th>full_rent_price</th>\n",
       "      <th>date</th>\n",
       "    </tr>\n",
       "  </thead>\n",
       "  <tbody>\n",
       "  </tbody>\n",
       "</table>\n",
       "</div>"
      ],
      "text/plain": [
       "Empty DataFrame\n",
       "Columns: [year, month, day, address_0, address_1, address_2, address_3, address_4, name, floor, full_rent_price, date]\n",
       "Index: []"
      ]
     },
     "execution_count": 16,
     "metadata": {},
     "output_type": "execute_result"
    }
   ],
   "source": [
    "# 값 제거\n",
    "df_full_rent=df_full_rent.drop(df_full_rent[df_full_rent['floor']==''].index)\n",
    "\n",
    "# 제거후 값 확인\n",
    "df_full_rent.loc[df_full_rent['floor']=='',:]"
   ]
  },
  {
   "cell_type": "code",
   "execution_count": 17,
   "id": "f8cdfc47",
   "metadata": {},
   "outputs": [
    {
     "name": "stdout",
     "output_type": "stream",
     "text": [
      "<class 'pandas.core.frame.DataFrame'>\n",
      "Int64Index: 1448686 entries, 0 to 2085774\n",
      "Data columns (total 12 columns):\n",
      " #   Column           Non-Null Count    Dtype         \n",
      "---  ------           --------------    -----         \n",
      " 0   year             1448686 non-null  int64         \n",
      " 1   month            1448686 non-null  int64         \n",
      " 2   day              1448686 non-null  int64         \n",
      " 3   address_0        1448686 non-null  object        \n",
      " 4   address_1        1448686 non-null  object        \n",
      " 5   address_2        1448686 non-null  object        \n",
      " 6   address_3        1448686 non-null  float64       \n",
      " 7   address_4        1448686 non-null  float64       \n",
      " 8   name             1448686 non-null  object        \n",
      " 9   floor            1448686 non-null  object        \n",
      " 10  full_rent_price  1448686 non-null  int64         \n",
      " 11  date             1448686 non-null  datetime64[ns]\n",
      "dtypes: datetime64[ns](1), float64(2), int64(4), object(5)\n",
      "memory usage: 143.7+ MB\n"
     ]
    }
   ],
   "source": [
    "df_full_rent.info() # 값확인을 통해서 null값 처리"
   ]
  },
  {
   "cell_type": "markdown",
   "id": "aebda154",
   "metadata": {},
   "source": [
    "## 월세 데이터 프레임 생성"
   ]
  },
  {
   "cell_type": "markdown",
   "id": "31d227d0",
   "metadata": {},
   "source": [
    "- apartment_deal 과 진행 과정이 거의 동일하기에 한 셀로 합쳐서 진행\n",
    "- 주석 부분들은 중간과정 확인 부분"
   ]
  },
  {
   "cell_type": "code",
   "execution_count": 19,
   "id": "ed39e57c",
   "metadata": {
    "scrolled": false
   },
   "outputs": [
    {
     "name": "stdout",
     "output_type": "stream",
     "text": [
      "<class 'pandas.core.frame.DataFrame'>\n",
      "Int64Index: 637088 entries, 25 to 2085770\n",
      "Data columns (total 10 columns):\n",
      " #   Column            Non-Null Count   Dtype  \n",
      "---  ------            --------------   -----  \n",
      " 0   address           637088 non-null  object \n",
      " 1   main_number       637039 non-null  float64\n",
      " 2   sub_number        637039 non-null  float64\n",
      " 3   road              637088 non-null  object \n",
      " 4   year_month        637088 non-null  int64  \n",
      " 5   day               637088 non-null  int64  \n",
      " 6   rent_deposit      637088 non-null  object \n",
      " 7   month_rent_price  637088 non-null  object \n",
      " 8   floor             637077 non-null  float64\n",
      " 9   name              637088 non-null  object \n",
      "dtypes: float64(3), int64(2), object(5)\n",
      "memory usage: 53.5+ MB\n"
     ]
    }
   ],
   "source": [
    "# 월세 데이터 프레임 생성\n",
    "df_month_rent = df_default.loc[df_default['전월세구분']=='월세',['시군구','본번','부번','도로명','계약년월','계약일','보증금(만원)','월세(만원)','층','단지명']].copy()\n",
    "df_month_rent.columns = ['address','main_number','sub_number','road','year_month','day','rent_deposit','month_rent_price','floor','name']\n",
    "# df_month_rent.head()\n",
    "\n",
    "df_month_rent.info()"
   ]
  },
  {
   "cell_type": "markdown",
   "id": "e81f9bbf",
   "metadata": {},
   "source": [
    "전세 파트와 다른 부분! ↓"
   ]
  },
  {
   "cell_type": "code",
   "execution_count": 20,
   "id": "1478dece",
   "metadata": {},
   "outputs": [
    {
     "name": "stdout",
     "output_type": "stream",
     "text": [
      "<class 'pandas.core.frame.DataFrame'>\n",
      "Int64Index: 637088 entries, 25 to 2085770\n",
      "Data columns (total 11 columns):\n",
      " #   Column             Non-Null Count   Dtype  \n",
      "---  ------             --------------   -----  \n",
      " 0   address            637088 non-null  object \n",
      " 1   main_number        637039 non-null  float64\n",
      " 2   sub_number         637039 non-null  float64\n",
      " 3   road               637088 non-null  object \n",
      " 4   year_month         637088 non-null  int64  \n",
      " 5   day                637088 non-null  int64  \n",
      " 6   rent_deposit       637088 non-null  object \n",
      " 7   month_rent_price   637088 non-null  object \n",
      " 8   floor              637077 non-null  float64\n",
      " 9   name               637088 non-null  object \n",
      " 10  month_rent_price2  349840 non-null  object \n",
      "dtypes: float64(3), int64(2), object(6)\n",
      "memory usage: 58.3+ MB\n"
     ]
    }
   ],
   "source": [
    "df_month_rent[\"month_rent_price2\"] = df_month_rent[\"month_rent_price\"].str.replace(',','')\n",
    "df_month_rent.info() # \"month_rent_price\"가 제데로 처리가 안됨을 확인 밑에 해결법이 있음"
   ]
  },
  {
   "cell_type": "markdown",
   "id": "d18a4cdf",
   "metadata": {},
   "source": [
    "-> df_month_rent[\"month_rent_price\"].str.replace(',','') \n",
    "\n",
    "진행했을 때, 'month_rent_price2' 컬럼에서의 null 값이 매우 커짐 -> replace 매소드가 제대로 동작 안함을 확인\n",
    "\n",
    "왜 동작을 안할까? -> string 과 object 타입의 차이, object는 타입의 혼용?"
   ]
  },
  {
   "cell_type": "code",
   "execution_count": 21,
   "id": "4b206acf",
   "metadata": {},
   "outputs": [],
   "source": [
    "# 해당 파트를 통해서 우선 type 을 변경한 다음에 진행해야 함\n",
    "df_month_rent = df_month_rent.astype({'month_rent_price':'str','rent_deposit':'str'})"
   ]
  },
  {
   "cell_type": "code",
   "execution_count": 22,
   "id": "b6805f64",
   "metadata": {},
   "outputs": [],
   "source": [
    "df_month_rent[\"rent_deposit\"] = df_month_rent[\"rent_deposit\"].str.replace(\",\", \"\")\n",
    "df_month_rent[\"month_rent_price\"] = df_month_rent[\"month_rent_price\"].str.replace(',','')\n",
    "df_month_rent = df_month_rent.astype({'year_month':'str','day':'str','rent_deposit':'int64','month_rent_price':'int64'})\n",
    "df_month_rent['year'] = df_month_rent['year_month'].str[0:4] # 연,월 합쳐져 있는 컬럼에서 연도만 추출\n",
    "df_month_rent['month'] = df_month_rent['year_month'].str[4:] # 연,월 합쳐져 있는 컬럼에서 월만 추출\n",
    "df_month_rent.loc[df_month_rent[\"day\"].str.len()==1,\"day\"]='0'+df_month_rent.loc[df_month_rent[\"day\"].str.len()==1,\"day\"] # 일이 있는 컬럼에서 1자리 숫자인 경우 앞에 0을 추가성\n",
    "df_month_rent['date'] = pd.to_datetime(df_month_rent['year']+df_month_rent['month']+df_month_rent['day']) # 일자들을 합쳐서 date 컬럼 생\n",
    "df_month_rent = df_month_rent.astype({'year':'int64','month':'int64','day':'int64'})\n",
    "df_month_rent = df_month_rent.drop(['year_month'], axis=1) # 사용 안하는 컬럼들 제거\n",
    "# print(df_month_rent.head())\n",
    "\n",
    "df_month_rent[\"address_0\"] = df_month_rent[\"address\"].str.split(' ',expand=True)[0] # '시' 만 추출해야 하나, 서울만 함으로 일단은 실행 X\n",
    "df_month_rent[\"address_1\"] = df_month_rent[\"address\"].str.split(' ',expand=True)[1] # '구' 만 추출\n",
    "df_month_rent[\"address_2\"] = df_month_rent[\"address\"].str.split(' ',expand=True)[2] # '동' 만 추출\n",
    "df_month_rent[\"road_name\"] = df_month_rent[\"road\"].str.split(' ',expand=True)[0] # '도로명' 만 추출\n",
    "df_month_rent[\"road_number\"] = df_month_rent[\"road\"].str.split(' ',expand=True)[1] # '도로숫자' 만 추출\n",
    "df_month_rent= df_month_rent[['year','month','day','address_0','address_1','address_2','main_number','sub_number','road_name','road_number','floor',\"rent_deposit\",\"month_rent_price\",'name','date']] # 사용할 컬럼만 선택\n",
    "# print(df_month_rent.head())\n",
    "\n",
    "# print(df_month_rent.info())\n",
    "# print(df_month_rent.isnull().sum())\n",
    "\n",
    "df_month_rent = df_month_rent.replace('', None) # ''값만 있는 값들을 null 값들로 수정\n",
    "# print(df_month_rent.isnull().sum()) # 수정한 후 정보 확인 -> road_name과 road_number가 기하급수적으로 증가함\n",
    "\n",
    "# df_month_rent[((df_month_rent['main_number'].isnull()) &(df_month_rent['sub_number'].notnull()))\n",
    "#   |((df_month_rent['main_number'].notnull()) &(df_month_rent['sub_number'].isnull()))]\n",
    "\n",
    "# df_month_rent[((df_month_rent['road_name'].isnull()) | (df_month_rent['road_number'].isnull())) & (df_month_rent['main_number'].isnull())] \n",
    "\n",
    "# df_month_rent.loc[df_month_rent['main_number'].isnull(),['address_0','address_1','address_2','main_number','sub_number','road_name','road_number','name']]\n",
    "\n",
    "# df_month_rent.loc[df_month_rent['main_number'].isnull(),'name'].unique()\n",
    "\n",
    "# df_month_rent.loc[df_month_rent['name']=='힐스테이트 서초 젠트리스',:]\n",
    "\n",
    "\n",
    "df_month_rent.loc[df_month_rent['name']=='힐스테이트 서초 젠트리스','main_number'] = 557\n",
    "df_month_rent.loc[df_month_rent['name']=='힐스테이트 서초 젠트리스','sub_number'] = 0\n",
    "\n",
    "df_month_rent = df_month_rent[['date','address_0','address_1','address_2','main_number','sub_number','name','floor','rent_deposit','month_rent_price','date']]\n",
    "df_month_rent.columns =['date','address_0','address_1','address_2','address_3','address_4','name','floor','rent_deposit','month_rent_price','date']\n",
    "# df_month_rent.head()\n",
    "\n",
    "# df_month_rent.info()"
   ]
  },
  {
   "cell_type": "markdown",
   "id": "2a288085",
   "metadata": {},
   "source": [
    "### 월세 floor 값 확인"
   ]
  },
  {
   "cell_type": "code",
   "execution_count": 23,
   "id": "60a892a3",
   "metadata": {},
   "outputs": [],
   "source": [
    "# df_month_rent[df_month_rent['floor'].isnull()].tail()\n",
    "\n",
    "\n",
    "add_1 = list(df_month_rent.loc[df_month_rent['floor'].isnull(),'address_1'])\n",
    "add_2 = list(df_month_rent.loc[df_month_rent['floor'].isnull(),'address_2'])\n",
    "add_3 = list(df_month_rent.loc[df_month_rent['floor'].isnull(),'address_3'])\n",
    "add_4 = list(df_month_rent.loc[df_month_rent['floor'].isnull(),'address_4'])\n",
    "floor_list = list()\n",
    "# floor_list 에 값 추가\n",
    "for i in range(len(add_1)):\n",
    "    # 해당 주소에서 가장 많이 거래되었던 층수를 null 값에 채울거임\n",
    "    if (len(df_month_rent.loc[(df_month_rent['address_1'] ==add_1[i]) & \n",
    "                     (df_month_rent['address_2'] ==add_2[i]) &\n",
    "                     (df_month_rent['address_3'] ==add_3[i]) &\n",
    "                     (df_month_rent['address_4'] ==add_4[i]),\n",
    "                     'floor'].value_counts())) == 0:\n",
    "\n",
    "        floor_list.append('')\n",
    "    else:\n",
    "        # 해당 주소에서 가장 많이 거래되었던 층수를 null 값에 채울거임\n",
    "        floor_list.append(df_month_rent.loc[(df_month_rent['address_1'] ==add_1[i]) & \n",
    "                     (df_month_rent['address_2'] ==add_2[i]) &\n",
    "                     (df_month_rent['address_3'] ==add_3[i]) &\n",
    "                     (df_month_rent['address_4'] ==add_4[i]),\n",
    "                     'floor'].value_counts().idxmax())\n",
    "# print(floor_list)\n",
    "\n",
    "# print(len(add_1),len(add_2),len(add_3),len(add_4),len(floor_list)) \n",
    "\n",
    "for i in range(len(add_1)):\n",
    "    df_month_rent.loc[(df_month_rent['address_1'] ==add_1[i]) & \n",
    "                         (df_month_rent['address_2'] ==add_2[i]) &\n",
    "                         (df_month_rent['address_3'] ==add_3[i]) &\n",
    "                         (df_month_rent['address_4'] ==add_4[i]),\n",
    "                         'floor']=floor_list[i]\n",
    "\n",
    "# df_month_rent.head()\n",
    "\n",
    "# df_month_rent.info()\n",
    "\n"
   ]
  },
  {
   "cell_type": "code",
   "execution_count": null,
   "id": "bb8c79af",
   "metadata": {},
   "outputs": [],
   "source": []
  }
 ],
 "metadata": {
  "kernelspec": {
   "display_name": "Python 3 (ipykernel)",
   "language": "python",
   "name": "python3"
  },
  "language_info": {
   "codemirror_mode": {
    "name": "ipython",
    "version": 3
   },
   "file_extension": ".py",
   "mimetype": "text/x-python",
   "name": "python",
   "nbconvert_exporter": "python",
   "pygments_lexer": "ipython3",
   "version": "3.9.13"
  }
 },
 "nbformat": 4,
 "nbformat_minor": 5
}
