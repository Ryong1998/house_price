{
 "cells": [
  {
   "cell_type": "code",
   "execution_count": 1,
   "id": "31e2ac8b",
   "metadata": {},
   "outputs": [],
   "source": [
    "import pandas as pd\n",
    "import os"
   ]
  },
  {
   "cell_type": "markdown",
   "id": "c6651ae1",
   "metadata": {},
   "source": [
    "# 데이터 불러오기"
   ]
  },
  {
   "cell_type": "markdown",
   "id": "909ea6c2",
   "metadata": {},
   "source": [
    "## 아파트 매매"
   ]
  },
  {
   "cell_type": "code",
   "execution_count": 3,
   "id": "7387ec75",
   "metadata": {},
   "outputs": [],
   "source": [
    "dir_path = \"dataset\\\\final_deal_price\"\n",
    "file_list = os.listdir(dir_path)\n",
    "final_deal_list = list()\n",
    "\n",
    "# 해당 폴더 안에 있는 csv 파일들을 읽어서 리스트 안에 데이터프레임들을 담음\n",
    "for csv_file in file_list:\n",
    "    final_deal_list.append(pd.read_csv(dir_path+\"\\\\\"+csv_file ,encoding='utf-8'))"
   ]
  },
  {
   "cell_type": "code",
   "execution_count": 4,
   "id": "c756b8de",
   "metadata": {},
   "outputs": [
    {
     "data": {
      "text/html": [
       "<div>\n",
       "<style scoped>\n",
       "    .dataframe tbody tr th:only-of-type {\n",
       "        vertical-align: middle;\n",
       "    }\n",
       "\n",
       "    .dataframe tbody tr th {\n",
       "        vertical-align: top;\n",
       "    }\n",
       "\n",
       "    .dataframe thead th {\n",
       "        text-align: right;\n",
       "    }\n",
       "</style>\n",
       "<table border=\"1\" class=\"dataframe\">\n",
       "  <thead>\n",
       "    <tr style=\"text-align: right;\">\n",
       "      <th></th>\n",
       "      <th>year</th>\n",
       "      <th>month</th>\n",
       "      <th>day</th>\n",
       "      <th>address_1</th>\n",
       "      <th>address_2</th>\n",
       "      <th>address_3</th>\n",
       "      <th>address_4</th>\n",
       "      <th>deal_price</th>\n",
       "    </tr>\n",
       "  </thead>\n",
       "  <tbody>\n",
       "    <tr>\n",
       "      <th>0</th>\n",
       "      <td>2011</td>\n",
       "      <td>1</td>\n",
       "      <td>1</td>\n",
       "      <td>강남구</td>\n",
       "      <td>개포동</td>\n",
       "      <td>12.0</td>\n",
       "      <td>0.0</td>\n",
       "      <td>0.0</td>\n",
       "    </tr>\n",
       "    <tr>\n",
       "      <th>1</th>\n",
       "      <td>2011</td>\n",
       "      <td>1</td>\n",
       "      <td>1</td>\n",
       "      <td>강남구</td>\n",
       "      <td>개포동</td>\n",
       "      <td>12.0</td>\n",
       "      <td>2.0</td>\n",
       "      <td>0.0</td>\n",
       "    </tr>\n",
       "    <tr>\n",
       "      <th>2</th>\n",
       "      <td>2011</td>\n",
       "      <td>1</td>\n",
       "      <td>1</td>\n",
       "      <td>강남구</td>\n",
       "      <td>개포동</td>\n",
       "      <td>138.0</td>\n",
       "      <td>0.0</td>\n",
       "      <td>0.0</td>\n",
       "    </tr>\n",
       "    <tr>\n",
       "      <th>3</th>\n",
       "      <td>2011</td>\n",
       "      <td>1</td>\n",
       "      <td>1</td>\n",
       "      <td>강남구</td>\n",
       "      <td>개포동</td>\n",
       "      <td>140.0</td>\n",
       "      <td>0.0</td>\n",
       "      <td>0.0</td>\n",
       "    </tr>\n",
       "    <tr>\n",
       "      <th>4</th>\n",
       "      <td>2011</td>\n",
       "      <td>1</td>\n",
       "      <td>1</td>\n",
       "      <td>강남구</td>\n",
       "      <td>개포동</td>\n",
       "      <td>141.0</td>\n",
       "      <td>0.0</td>\n",
       "      <td>0.0</td>\n",
       "    </tr>\n",
       "    <tr>\n",
       "      <th>...</th>\n",
       "      <td>...</td>\n",
       "      <td>...</td>\n",
       "      <td>...</td>\n",
       "      <td>...</td>\n",
       "      <td>...</td>\n",
       "      <td>...</td>\n",
       "      <td>...</td>\n",
       "      <td>...</td>\n",
       "    </tr>\n",
       "    <tr>\n",
       "      <th>8765995</th>\n",
       "      <td>2022</td>\n",
       "      <td>12</td>\n",
       "      <td>31</td>\n",
       "      <td>관악구</td>\n",
       "      <td>남현동</td>\n",
       "      <td>602.0</td>\n",
       "      <td>218.0</td>\n",
       "      <td>44000.0</td>\n",
       "    </tr>\n",
       "    <tr>\n",
       "      <th>8765996</th>\n",
       "      <td>2022</td>\n",
       "      <td>12</td>\n",
       "      <td>31</td>\n",
       "      <td>관악구</td>\n",
       "      <td>남현동</td>\n",
       "      <td>602.0</td>\n",
       "      <td>283.0</td>\n",
       "      <td>56000.0</td>\n",
       "    </tr>\n",
       "    <tr>\n",
       "      <th>8765997</th>\n",
       "      <td>2022</td>\n",
       "      <td>12</td>\n",
       "      <td>31</td>\n",
       "      <td>관악구</td>\n",
       "      <td>남현동</td>\n",
       "      <td>602.0</td>\n",
       "      <td>284.0</td>\n",
       "      <td>63000.0</td>\n",
       "    </tr>\n",
       "    <tr>\n",
       "      <th>8765998</th>\n",
       "      <td>2022</td>\n",
       "      <td>12</td>\n",
       "      <td>31</td>\n",
       "      <td>관악구</td>\n",
       "      <td>남현동</td>\n",
       "      <td>602.0</td>\n",
       "      <td>323.0</td>\n",
       "      <td>70000.0</td>\n",
       "    </tr>\n",
       "    <tr>\n",
       "      <th>8765999</th>\n",
       "      <td>2022</td>\n",
       "      <td>12</td>\n",
       "      <td>31</td>\n",
       "      <td>관악구</td>\n",
       "      <td>남현동</td>\n",
       "      <td>602.0</td>\n",
       "      <td>329.0</td>\n",
       "      <td>58000.0</td>\n",
       "    </tr>\n",
       "  </tbody>\n",
       "</table>\n",
       "<p>8766000 rows × 8 columns</p>\n",
       "</div>"
      ],
      "text/plain": [
       "         year  month  day address_1 address_2  address_3  address_4  \\\n",
       "0        2011      1    1       강남구       개포동       12.0        0.0   \n",
       "1        2011      1    1       강남구       개포동       12.0        2.0   \n",
       "2        2011      1    1       강남구       개포동      138.0        0.0   \n",
       "3        2011      1    1       강남구       개포동      140.0        0.0   \n",
       "4        2011      1    1       강남구       개포동      141.0        0.0   \n",
       "...       ...    ...  ...       ...       ...        ...        ...   \n",
       "8765995  2022     12   31       관악구       남현동      602.0      218.0   \n",
       "8765996  2022     12   31       관악구       남현동      602.0      283.0   \n",
       "8765997  2022     12   31       관악구       남현동      602.0      284.0   \n",
       "8765998  2022     12   31       관악구       남현동      602.0      323.0   \n",
       "8765999  2022     12   31       관악구       남현동      602.0      329.0   \n",
       "\n",
       "         deal_price  \n",
       "0               0.0  \n",
       "1               0.0  \n",
       "2               0.0  \n",
       "3               0.0  \n",
       "4               0.0  \n",
       "...             ...  \n",
       "8765995     44000.0  \n",
       "8765996     56000.0  \n",
       "8765997     63000.0  \n",
       "8765998     70000.0  \n",
       "8765999     58000.0  \n",
       "\n",
       "[8766000 rows x 8 columns]"
      ]
     },
     "execution_count": 4,
     "metadata": {},
     "output_type": "execute_result"
    }
   ],
   "source": [
    "final_deal_list[0]"
   ]
  },
  {
   "cell_type": "code",
   "execution_count": 5,
   "id": "b842bddb",
   "metadata": {},
   "outputs": [],
   "source": [
    "# 모든 데이터프레임을을 통합\n",
    "final_deal = final_deal_list[0]\n",
    "for df_csv in final_deal_list[1:]:\n",
    "    final_deal = pd.concat([final_deal, df_csv], axis=0)\n",
    "final_deal.reset_index(drop=True, inplace=True) # concat으로 합쳐질 때 인덱스 재설정"
   ]
  },
  {
   "cell_type": "code",
   "execution_count": 6,
   "id": "9f5f1321",
   "metadata": {
    "scrolled": true
   },
   "outputs": [
    {
     "name": "stdout",
     "output_type": "stream",
     "text": [
      "<class 'pandas.core.frame.DataFrame'>\n",
      "RangeIndex: 38833380 entries, 0 to 38833379\n",
      "Data columns (total 8 columns):\n",
      " #   Column      Dtype  \n",
      "---  ------      -----  \n",
      " 0   year        int64  \n",
      " 1   month       int64  \n",
      " 2   day         int64  \n",
      " 3   address_1   object \n",
      " 4   address_2   object \n",
      " 5   address_3   float64\n",
      " 6   address_4   float64\n",
      " 7   deal_price  float64\n",
      "dtypes: float64(3), int64(3), object(2)\n",
      "memory usage: 2.3+ GB\n"
     ]
    }
   ],
   "source": [
    "final_deal.info()"
   ]
  },
  {
   "cell_type": "code",
   "execution_count": 7,
   "id": "c48c4dac",
   "metadata": {},
   "outputs": [],
   "source": [
    "# 파일로 저장\n",
    "final_deal.to_pickle('final_deal.pkl')"
   ]
  },
  {
   "cell_type": "markdown",
   "id": "88edffdc",
   "metadata": {},
   "source": [
    "## 아파트 전세"
   ]
  },
  {
   "cell_type": "code",
   "execution_count": 2,
   "id": "071c02b7",
   "metadata": {},
   "outputs": [],
   "source": [
    "dir_path = \"dataset\\\\final_full_rent\"\n",
    "file_list = os.listdir(dir_path)\n",
    "final_full_rent_list = list()\n",
    "\n",
    "# 해당 폴더 안에 있는 csv 파일들을 읽어서 리스트 안에 데이터프레임들을 담음\n",
    "for csv_file in file_list:\n",
    "    final_full_rent_list.append(pd.read_csv(dir_path+\"\\\\\"+csv_file ,encoding='utf-8'))\n",
    "\n",
    "final_full_rent = final_full_rent_list[0]\n",
    "for df_csv in final_full_rent_list[1:]:\n",
    "    final_full_rent = pd.concat([final_full_rent, df_csv], axis=0)\n",
    "final_full_rent.reset_index(drop=True, inplace=True)"
   ]
  },
  {
   "cell_type": "code",
   "execution_count": 3,
   "id": "d19e9e84",
   "metadata": {},
   "outputs": [
    {
     "name": "stdout",
     "output_type": "stream",
     "text": [
      "<class 'pandas.core.frame.DataFrame'>\n",
      "RangeIndex: 40577814 entries, 0 to 40577813\n",
      "Data columns (total 8 columns):\n",
      " #   Column           Dtype  \n",
      "---  ------           -----  \n",
      " 0   year             int64  \n",
      " 1   month            int64  \n",
      " 2   day              int64  \n",
      " 3   address_1        object \n",
      " 4   address_2        object \n",
      " 5   address_3        float64\n",
      " 6   address_4        float64\n",
      " 7   full_rent_price  float64\n",
      "dtypes: float64(3), int64(3), object(2)\n",
      "memory usage: 2.4+ GB\n"
     ]
    }
   ],
   "source": [
    "final_full_rent.info()"
   ]
  },
  {
   "cell_type": "code",
   "execution_count": 4,
   "id": "47984e05",
   "metadata": {},
   "outputs": [],
   "source": [
    "# 파일로 저장\n",
    "final_full_rent.to_pickle('final_full_rent.pkl')"
   ]
  },
  {
   "cell_type": "markdown",
   "id": "45aaae2a",
   "metadata": {},
   "source": [
    "## 아파트 연세"
   ]
  },
  {
   "cell_type": "code",
   "execution_count": 2,
   "id": "ba48cb88",
   "metadata": {},
   "outputs": [],
   "source": [
    "dir_path = \"dataset\\\\final_month_rent\"\n",
    "file_list = os.listdir(dir_path)\n",
    "final_year_rent_list = list()\n",
    "\n",
    "# 해당 폴더 안에 있는 csv 파일들을 읽어서 리스트 안에 데이터프레임들을 담음\n",
    "for csv_file in file_list:\n",
    "    final_year_rent_list.append(pd.read_csv(dir_path+\"\\\\\"+csv_file ,encoding='utf-8'))\n",
    "\n",
    "final_year_rent = final_year_rent_list[0]\n",
    "for df_csv in final_year_rent_list[1:]:\n",
    "    final_year_rent = pd.concat([final_year_rent, df_csv], axis=0)\n",
    "final_year_rent.reset_index(drop=True, inplace=True)"
   ]
  },
  {
   "cell_type": "code",
   "execution_count": 3,
   "id": "a9c8bbe6",
   "metadata": {},
   "outputs": [
    {
     "name": "stdout",
     "output_type": "stream",
     "text": [
      "<class 'pandas.core.frame.DataFrame'>\n",
      "RangeIndex: 36633114 entries, 0 to 36633113\n",
      "Data columns (total 8 columns):\n",
      " #   Column           Dtype  \n",
      "---  ------           -----  \n",
      " 0   year             int64  \n",
      " 1   month            int64  \n",
      " 2   day              int64  \n",
      " 3   address_1        object \n",
      " 4   address_2        object \n",
      " 5   address_3        float64\n",
      " 6   address_4        float64\n",
      " 7   year_rent_price  float64\n",
      "dtypes: float64(3), int64(3), object(2)\n",
      "memory usage: 2.2+ GB\n"
     ]
    }
   ],
   "source": [
    "final_year_rent.info()"
   ]
  },
  {
   "cell_type": "code",
   "execution_count": 4,
   "id": "90258f3e",
   "metadata": {},
   "outputs": [],
   "source": [
    "# 파일로 저장\n",
    "final_year_rent.to_pickle('final_year_rent.pkl')"
   ]
  },
  {
   "cell_type": "code",
   "execution_count": null,
   "id": "03fec3fa",
   "metadata": {},
   "outputs": [],
   "source": []
  }
 ],
 "metadata": {
  "kernelspec": {
   "display_name": "Python 3 (ipykernel)",
   "language": "python",
   "name": "python3"
  },
  "language_info": {
   "codemirror_mode": {
    "name": "ipython",
    "version": 3
   },
   "file_extension": ".py",
   "mimetype": "text/x-python",
   "name": "python",
   "nbconvert_exporter": "python",
   "pygments_lexer": "ipython3",
   "version": "3.9.13"
  }
 },
 "nbformat": 4,
 "nbformat_minor": 5
}
