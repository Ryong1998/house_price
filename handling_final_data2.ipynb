{
 "cells": [
  {
   "cell_type": "code",
   "execution_count": 1,
   "id": "31e2ac8b",
   "metadata": {},
   "outputs": [],
   "source": [
    "import pandas as pd\n",
    "import os"
   ]
  },
  {
   "cell_type": "markdown",
   "id": "c6651ae1",
   "metadata": {},
   "source": [
    "# 데이터 불러오기"
   ]
  },
  {
   "cell_type": "markdown",
   "id": "909ea6c2",
   "metadata": {},
   "source": [
    "## 아파트 매매"
   ]
  },
  {
   "cell_type": "code",
   "execution_count": 2,
   "id": "7387ec75",
   "metadata": {},
   "outputs": [],
   "source": [
    "dir_path = \"dataset\\\\after_data\\\\final_deal_price\"\n",
    "file_list = os.listdir(dir_path)\n",
    "\n",
    "# 해당 폴더 안에 있는 csv 파일들을 읽어서 리스트 안에 데이터프레임들을 담음\n",
    "for i,csv_file in enumerate(file_list):\n",
    "    if i == 0:\n",
    "        final_deal = pd.read_csv(dir_path+\"\\\\\"+csv_file ,encoding='utf-8')\n",
    "    else:\n",
    "        final_deal = pd.concat([final_deal, pd.read_csv(dir_path+\"\\\\\"+csv_file ,encoding='utf-8')], axis=0)\n",
    "final_deal.reset_index(drop=True, inplace=True)"
   ]
  },
  {
   "cell_type": "code",
   "execution_count": 5,
   "id": "24eaa0da",
   "metadata": {},
   "outputs": [
    {
     "data": {
      "text/html": [
       "<div>\n",
       "<style scoped>\n",
       "    .dataframe tbody tr th:only-of-type {\n",
       "        vertical-align: middle;\n",
       "    }\n",
       "\n",
       "    .dataframe tbody tr th {\n",
       "        vertical-align: top;\n",
       "    }\n",
       "\n",
       "    .dataframe thead th {\n",
       "        text-align: right;\n",
       "    }\n",
       "</style>\n",
       "<table border=\"1\" class=\"dataframe\">\n",
       "  <thead>\n",
       "    <tr style=\"text-align: right;\">\n",
       "      <th></th>\n",
       "      <th>year</th>\n",
       "      <th>month</th>\n",
       "      <th>day</th>\n",
       "      <th>address_1</th>\n",
       "      <th>address_2</th>\n",
       "      <th>address_3</th>\n",
       "      <th>address_4</th>\n",
       "      <th>deal_price</th>\n",
       "    </tr>\n",
       "  </thead>\n",
       "  <tbody>\n",
       "    <tr>\n",
       "      <th>38833375</th>\n",
       "      <td>2022</td>\n",
       "      <td>12</td>\n",
       "      <td>31</td>\n",
       "      <td>중랑구</td>\n",
       "      <td>중화동</td>\n",
       "      <td>438</td>\n",
       "      <td>0</td>\n",
       "      <td>69500</td>\n",
       "    </tr>\n",
       "    <tr>\n",
       "      <th>38833376</th>\n",
       "      <td>2022</td>\n",
       "      <td>12</td>\n",
       "      <td>31</td>\n",
       "      <td>중랑구</td>\n",
       "      <td>중화동</td>\n",
       "      <td>450</td>\n",
       "      <td>0</td>\n",
       "      <td>91500</td>\n",
       "    </tr>\n",
       "    <tr>\n",
       "      <th>38833377</th>\n",
       "      <td>2022</td>\n",
       "      <td>12</td>\n",
       "      <td>31</td>\n",
       "      <td>중랑구</td>\n",
       "      <td>중화동</td>\n",
       "      <td>452</td>\n",
       "      <td>0</td>\n",
       "      <td>55000</td>\n",
       "    </tr>\n",
       "    <tr>\n",
       "      <th>38833378</th>\n",
       "      <td>2022</td>\n",
       "      <td>12</td>\n",
       "      <td>31</td>\n",
       "      <td>중랑구</td>\n",
       "      <td>중화동</td>\n",
       "      <td>453</td>\n",
       "      <td>0</td>\n",
       "      <td>85500</td>\n",
       "    </tr>\n",
       "    <tr>\n",
       "      <th>38833379</th>\n",
       "      <td>2022</td>\n",
       "      <td>12</td>\n",
       "      <td>31</td>\n",
       "      <td>중랑구</td>\n",
       "      <td>중화동</td>\n",
       "      <td>454</td>\n",
       "      <td>0</td>\n",
       "      <td>96000</td>\n",
       "    </tr>\n",
       "  </tbody>\n",
       "</table>\n",
       "</div>"
      ],
      "text/plain": [
       "          year  month  day address_1 address_2  address_3  address_4  \\\n",
       "38833375  2022     12   31       중랑구       중화동        438          0   \n",
       "38833376  2022     12   31       중랑구       중화동        450          0   \n",
       "38833377  2022     12   31       중랑구       중화동        452          0   \n",
       "38833378  2022     12   31       중랑구       중화동        453          0   \n",
       "38833379  2022     12   31       중랑구       중화동        454          0   \n",
       "\n",
       "          deal_price  \n",
       "38833375       69500  \n",
       "38833376       91500  \n",
       "38833377       55000  \n",
       "38833378       85500  \n",
       "38833379       96000  "
      ]
     },
     "execution_count": 5,
     "metadata": {},
     "output_type": "execute_result"
    }
   ],
   "source": [
    "final_deal.tail()"
   ]
  },
  {
   "cell_type": "code",
   "execution_count": 6,
   "id": "da18e34f",
   "metadata": {},
   "outputs": [
    {
     "name": "stdout",
     "output_type": "stream",
     "text": [
      "<class 'pandas.core.frame.DataFrame'>\n",
      "RangeIndex: 38833380 entries, 0 to 38833379\n",
      "Data columns (total 8 columns):\n",
      " #   Column      Dtype \n",
      "---  ------      ----- \n",
      " 0   year        int64 \n",
      " 1   month       int64 \n",
      " 2   day         int64 \n",
      " 3   address_1   object\n",
      " 4   address_2   object\n",
      " 5   address_3   int64 \n",
      " 6   address_4   int64 \n",
      " 7   deal_price  int64 \n",
      "dtypes: int64(6), object(2)\n",
      "memory usage: 2.3+ GB\n"
     ]
    }
   ],
   "source": [
    "final_deal.info()"
   ]
  },
  {
   "cell_type": "code",
   "execution_count": 7,
   "id": "cfee94e5",
   "metadata": {},
   "outputs": [],
   "source": [
    "# 용량을 줄이기 위해서 타입을 변경\n",
    "final_deal=final_deal.astype({'year': 'int16','month': 'int16','day': 'int16','address_3': 'int16','address_4': 'int16','deal_price': 'int32'})"
   ]
  },
  {
   "cell_type": "code",
   "execution_count": 10,
   "id": "9ef4e181",
   "metadata": {},
   "outputs": [
    {
     "name": "stdout",
     "output_type": "stream",
     "text": [
      "<class 'pandas.core.frame.DataFrame'>\n",
      "RangeIndex: 38833380 entries, 0 to 38833379\n",
      "Data columns (total 8 columns):\n",
      " #   Column      Dtype \n",
      "---  ------      ----- \n",
      " 0   year        int16 \n",
      " 1   month       int16 \n",
      " 2   day         int16 \n",
      " 3   address_1   object\n",
      " 4   address_2   object\n",
      " 5   address_3   int16 \n",
      " 6   address_4   int16 \n",
      " 7   deal_price  int32 \n",
      "dtypes: int16(5), int32(1), object(2)\n",
      "memory usage: 1.1+ GB\n"
     ]
    }
   ],
   "source": [
    "final_deal.info()"
   ]
  },
  {
   "cell_type": "code",
   "execution_count": 11,
   "id": "c48c4dac",
   "metadata": {},
   "outputs": [],
   "source": [
    "# 파일로 저장\n",
    "final_deal.to_pickle('dataset\\\\after_data\\\\final_deal.pkl')"
   ]
  },
  {
   "cell_type": "markdown",
   "id": "88edffdc",
   "metadata": {},
   "source": [
    "## 아파트 전세"
   ]
  },
  {
   "cell_type": "code",
   "execution_count": 3,
   "id": "071c02b7",
   "metadata": {},
   "outputs": [],
   "source": [
    "dir_path = \"dataset\\\\after_data\\\\final_full_rent\"\n",
    "file_list = os.listdir(dir_path)\n",
    "\n",
    "for i,csv_file in enumerate(file_list):\n",
    "    if i == 0:\n",
    "        final_full_rent = pd.read_csv(dir_path+\"\\\\\"+csv_file ,encoding='utf-8')\n",
    "    else:\n",
    "        final_full_rent = pd.concat([final_full_rent, pd.read_csv(dir_path+\"\\\\\"+csv_file ,encoding='utf-8')], axis=0)\n",
    "final_full_rent.reset_index(drop=True, inplace=True)"
   ]
  },
  {
   "cell_type": "code",
   "execution_count": 4,
   "id": "d19e9e84",
   "metadata": {
    "scrolled": true
   },
   "outputs": [
    {
     "name": "stdout",
     "output_type": "stream",
     "text": [
      "<class 'pandas.core.frame.DataFrame'>\n",
      "RangeIndex: 40577814 entries, 0 to 40577813\n",
      "Data columns (total 8 columns):\n",
      " #   Column           Dtype \n",
      "---  ------           ----- \n",
      " 0   year             int64 \n",
      " 1   month            int64 \n",
      " 2   day              int64 \n",
      " 3   address_1        object\n",
      " 4   address_2        object\n",
      " 5   address_3        int64 \n",
      " 6   address_4        int64 \n",
      " 7   full_rent_price  int64 \n",
      "dtypes: int64(6), object(2)\n",
      "memory usage: 2.4+ GB\n"
     ]
    }
   ],
   "source": [
    "final_full_rent.info()"
   ]
  },
  {
   "cell_type": "code",
   "execution_count": 6,
   "id": "0ce28893",
   "metadata": {},
   "outputs": [
    {
     "name": "stdout",
     "output_type": "stream",
     "text": [
      "<class 'pandas.core.frame.DataFrame'>\n",
      "RangeIndex: 40577814 entries, 0 to 40577813\n",
      "Data columns (total 8 columns):\n",
      " #   Column           Dtype \n",
      "---  ------           ----- \n",
      " 0   year             int16 \n",
      " 1   month            int16 \n",
      " 2   day              int16 \n",
      " 3   address_1        object\n",
      " 4   address_2        object\n",
      " 5   address_3        int16 \n",
      " 6   address_4        int16 \n",
      " 7   full_rent_price  int32 \n",
      "dtypes: int16(5), int32(1), object(2)\n",
      "memory usage: 1.1+ GB\n"
     ]
    }
   ],
   "source": [
    "final_full_rent = final_full_rent.astype({'year': 'int16','month': 'int16','day': 'int16','address_3': 'int16','address_4': 'int16','full_rent_price': 'int32'})\n",
    "final_full_rent.info()"
   ]
  },
  {
   "cell_type": "code",
   "execution_count": 7,
   "id": "47984e05",
   "metadata": {},
   "outputs": [],
   "source": [
    "# 파일로 저장\n",
    "final_full_rent.to_pickle('dataset\\\\after_data\\\\final_full_rent.pkl')"
   ]
  },
  {
   "cell_type": "markdown",
   "id": "45aaae2a",
   "metadata": {},
   "source": [
    "## 아파트 연세"
   ]
  },
  {
   "cell_type": "code",
   "execution_count": 2,
   "id": "ba48cb88",
   "metadata": {},
   "outputs": [],
   "source": [
    "dir_path = \"dataset\\\\after_data\\\\final_month_rent\"\n",
    "file_list = os.listdir(dir_path)\n",
    "\n",
    "# 해당 폴더 안에 있는 csv 파일들을 읽어서 리스트 안에 데이터프레임들을 담음\n",
    "for i,csv_file in enumerate(file_list):\n",
    "    if i == 0:\n",
    "        final_year_rent = pd.read_csv(dir_path+\"\\\\\"+csv_file ,encoding='utf-8')\n",
    "    else:\n",
    "        final_year_rent = pd.concat([final_year_rent, pd.read_csv(dir_path+\"\\\\\"+csv_file ,encoding='utf-8')], axis=0)\n",
    "final_year_rent.reset_index(drop=True, inplace=True)"
   ]
  },
  {
   "cell_type": "code",
   "execution_count": 3,
   "id": "86dad674",
   "metadata": {},
   "outputs": [
    {
     "name": "stdout",
     "output_type": "stream",
     "text": [
      "<class 'pandas.core.frame.DataFrame'>\n",
      "RangeIndex: 36633114 entries, 0 to 36633113\n",
      "Data columns (total 8 columns):\n",
      " #   Column           Dtype \n",
      "---  ------           ----- \n",
      " 0   year             int64 \n",
      " 1   month            int64 \n",
      " 2   day              int64 \n",
      " 3   address_1        object\n",
      " 4   address_2        object\n",
      " 5   address_3        int64 \n",
      " 6   address_4        int64 \n",
      " 7   year_rent_price  int64 \n",
      "dtypes: int64(6), object(2)\n",
      "memory usage: 2.2+ GB\n"
     ]
    }
   ],
   "source": [
    "final_year_rent.info()"
   ]
  },
  {
   "cell_type": "code",
   "execution_count": 5,
   "id": "a9c8bbe6",
   "metadata": {},
   "outputs": [
    {
     "name": "stdout",
     "output_type": "stream",
     "text": [
      "<class 'pandas.core.frame.DataFrame'>\n",
      "RangeIndex: 36633114 entries, 0 to 36633113\n",
      "Data columns (total 8 columns):\n",
      " #   Column           Dtype \n",
      "---  ------           ----- \n",
      " 0   year             int16 \n",
      " 1   month            int16 \n",
      " 2   day              int16 \n",
      " 3   address_1        object\n",
      " 4   address_2        object\n",
      " 5   address_3        int16 \n",
      " 6   address_4        int16 \n",
      " 7   year_rent_price  int32 \n",
      "dtypes: int16(5), int32(1), object(2)\n",
      "memory usage: 1.0+ GB\n"
     ]
    }
   ],
   "source": [
    "final_year_rent = final_year_rent.astype({'year': 'int16','month': 'int16','day': 'int16','address_3': 'int16','address_4': 'int16','year_rent_price': 'int32'})\n",
    "final_year_rent.info()"
   ]
  },
  {
   "cell_type": "code",
   "execution_count": 6,
   "id": "90258f3e",
   "metadata": {},
   "outputs": [],
   "source": [
    "# 파일로 저장\n",
    "final_year_rent.to_pickle('dataset\\\\after_data\\\\final_year_rent.pkl')"
   ]
  },
  {
   "cell_type": "code",
   "execution_count": null,
   "id": "03fec3fa",
   "metadata": {},
   "outputs": [],
   "source": []
  }
 ],
 "metadata": {
  "kernelspec": {
   "display_name": "Python 3 (ipykernel)",
   "language": "python",
   "name": "python3"
  },
  "language_info": {
   "codemirror_mode": {
    "name": "ipython",
    "version": 3
   },
   "file_extension": ".py",
   "mimetype": "text/x-python",
   "name": "python",
   "nbconvert_exporter": "python",
   "pygments_lexer": "ipython3",
   "version": "3.9.13"
  }
 },
 "nbformat": 4,
 "nbformat_minor": 5
}
