{
 "cells": [
  {
   "cell_type": "code",
   "execution_count": 9,
   "id": "a429b3c8",
   "metadata": {},
   "outputs": [
    {
     "data": {
      "text/html": [
       "<div>\n",
       "<style scoped>\n",
       "    .dataframe tbody tr th:only-of-type {\n",
       "        vertical-align: middle;\n",
       "    }\n",
       "\n",
       "    .dataframe tbody tr th {\n",
       "        vertical-align: top;\n",
       "    }\n",
       "\n",
       "    .dataframe thead th {\n",
       "        text-align: right;\n",
       "    }\n",
       "</style>\n",
       "<table border=\"1\" class=\"dataframe\">\n",
       "  <thead>\n",
       "    <tr style=\"text-align: right;\">\n",
       "      <th></th>\n",
       "      <th>시점</th>\n",
       "      <th>아파트</th>\n",
       "    </tr>\n",
       "  </thead>\n",
       "  <tbody>\n",
       "    <tr>\n",
       "      <th>39</th>\n",
       "      <td>1999-01-01</td>\n",
       "      <td>38.7</td>\n",
       "    </tr>\n",
       "    <tr>\n",
       "      <th>42</th>\n",
       "      <td>2000-01-01</td>\n",
       "      <td>40.3</td>\n",
       "    </tr>\n",
       "    <tr>\n",
       "      <th>45</th>\n",
       "      <td>2001-01-01</td>\n",
       "      <td>48.1</td>\n",
       "    </tr>\n",
       "    <tr>\n",
       "      <th>48</th>\n",
       "      <td>2002-01-01</td>\n",
       "      <td>62.9</td>\n",
       "    </tr>\n",
       "    <tr>\n",
       "      <th>51</th>\n",
       "      <td>2003-01-01</td>\n",
       "      <td>61.2</td>\n",
       "    </tr>\n",
       "  </tbody>\n",
       "</table>\n",
       "</div>"
      ],
      "text/plain": [
       "           시점   아파트\n",
       "39 1999-01-01  38.7\n",
       "42 2000-01-01  40.3\n",
       "45 2001-01-01  48.1\n",
       "48 2002-01-01  62.9\n",
       "51 2003-01-01  61.2"
      ]
     },
     "execution_count": 9,
     "metadata": {},
     "output_type": "execute_result"
    }
   ],
   "source": [
    "import pandas as pd\n",
    "\n",
    "df_real_estate = pd.read_csv(\"dataset\\\\seoul_deal_index.csv\",  encoding='UTF8') # 부동산 지수 불러오기\n",
    "df_real_estate= df_real_estate.loc[(df_real_estate['시점']>1998) & (df_real_estate['자치구별(2)']=='소계'),['시점','아파트']]# 데이터프레임만 거르기\n",
    "df_real_estate['시점'] = pd.to_datetime(df_real_estate['시점'], format='%Y') # 연도만을 datetime형식으로 변환\n",
    "df_real_estate.head()"
   ]
  },
  {
   "cell_type": "code",
   "execution_count": 10,
   "id": "7ba5c67b",
   "metadata": {},
   "outputs": [
    {
     "name": "stdout",
     "output_type": "stream",
     "text": [
      "<class 'pandas.core.frame.DataFrame'>\n",
      "Int64Index: 23 entries, 39 to 519\n",
      "Data columns (total 2 columns):\n",
      " #   Column  Non-Null Count  Dtype         \n",
      "---  ------  --------------  -----         \n",
      " 0   시점      23 non-null     datetime64[ns]\n",
      " 1   아파트     23 non-null     float64       \n",
      "dtypes: datetime64[ns](1), float64(1)\n",
      "memory usage: 552.0 bytes\n"
     ]
    }
   ],
   "source": [
    "df_real_estate.info()"
   ]
  },
  {
   "cell_type": "code",
   "execution_count": 11,
   "id": "4d358f33",
   "metadata": {},
   "outputs": [
    {
     "name": "stdout",
     "output_type": "stream",
     "text": [
      "<class 'pandas.core.frame.DataFrame'>\n",
      "Int64Index: 23 entries, 39 to 519\n",
      "Data columns (total 2 columns):\n",
      " #   Column             Non-Null Count  Dtype         \n",
      "---  ------             --------------  -----         \n",
      " 0   real_estate_date   23 non-null     datetime64[ns]\n",
      " 1   real_estate_value  23 non-null     float64       \n",
      "dtypes: datetime64[ns](1), float64(1)\n",
      "memory usage: 552.0 bytes\n"
     ]
    }
   ],
   "source": [
    "df_real_estate.columns = ['real_estate_date','real_estate_value']\n",
    "df_real_estate.info()"
   ]
  },
  {
   "cell_type": "code",
   "execution_count": 12,
   "id": "5666080a",
   "metadata": {},
   "outputs": [
    {
     "data": {
      "text/html": [
       "<div>\n",
       "<style scoped>\n",
       "    .dataframe tbody tr th:only-of-type {\n",
       "        vertical-align: middle;\n",
       "    }\n",
       "\n",
       "    .dataframe tbody tr th {\n",
       "        vertical-align: top;\n",
       "    }\n",
       "\n",
       "    .dataframe thead th {\n",
       "        text-align: right;\n",
       "    }\n",
       "</style>\n",
       "<table border=\"1\" class=\"dataframe\">\n",
       "  <thead>\n",
       "    <tr style=\"text-align: right;\">\n",
       "      <th></th>\n",
       "      <th>날짜</th>\n",
       "      <th>종가</th>\n",
       "      <th>오픈</th>\n",
       "      <th>고가</th>\n",
       "      <th>저가</th>\n",
       "      <th>거래량</th>\n",
       "      <th>변동 %</th>\n",
       "    </tr>\n",
       "  </thead>\n",
       "  <tbody>\n",
       "    <tr>\n",
       "      <th>0</th>\n",
       "      <td>2022- 12- 29</td>\n",
       "      <td>2,236.40</td>\n",
       "      <td>2,265.73</td>\n",
       "      <td>2,272.67</td>\n",
       "      <td>2,236.38</td>\n",
       "      <td>361.19M</td>\n",
       "      <td>-1.93%</td>\n",
       "    </tr>\n",
       "    <tr>\n",
       "      <th>1</th>\n",
       "      <td>2022- 12- 28</td>\n",
       "      <td>2,280.45</td>\n",
       "      <td>2,296.45</td>\n",
       "      <td>2,296.45</td>\n",
       "      <td>2,276.90</td>\n",
       "      <td>405.89M</td>\n",
       "      <td>-2.24%</td>\n",
       "    </tr>\n",
       "    <tr>\n",
       "      <th>2</th>\n",
       "      <td>2022- 12- 27</td>\n",
       "      <td>2,332.79</td>\n",
       "      <td>2,327.52</td>\n",
       "      <td>2,335.99</td>\n",
       "      <td>2,321.48</td>\n",
       "      <td>448.50M</td>\n",
       "      <td>0.68%</td>\n",
       "    </tr>\n",
       "    <tr>\n",
       "      <th>3</th>\n",
       "      <td>2022- 12- 26</td>\n",
       "      <td>2,317.14</td>\n",
       "      <td>2,312.54</td>\n",
       "      <td>2,321.92</td>\n",
       "      <td>2,304.20</td>\n",
       "      <td>427.84M</td>\n",
       "      <td>0.15%</td>\n",
       "    </tr>\n",
       "    <tr>\n",
       "      <th>4</th>\n",
       "      <td>2022- 12- 23</td>\n",
       "      <td>2,313.69</td>\n",
       "      <td>2,325.86</td>\n",
       "      <td>2,333.08</td>\n",
       "      <td>2,311.90</td>\n",
       "      <td>366.99M</td>\n",
       "      <td>-1.83%</td>\n",
       "    </tr>\n",
       "  </tbody>\n",
       "</table>\n",
       "</div>"
      ],
      "text/plain": [
       "             날짜        종가        오픈        고가        저가      거래량    변동 %\n",
       "0  2022- 12- 29  2,236.40  2,265.73  2,272.67  2,236.38  361.19M  -1.93%\n",
       "1  2022- 12- 28  2,280.45  2,296.45  2,296.45  2,276.90  405.89M  -2.24%\n",
       "2  2022- 12- 27  2,332.79  2,327.52  2,335.99  2,321.48  448.50M   0.68%\n",
       "3  2022- 12- 26  2,317.14  2,312.54  2,321.92  2,304.20  427.84M   0.15%\n",
       "4  2022- 12- 23  2,313.69  2,325.86  2,333.08  2,311.90  366.99M  -1.83%"
      ]
     },
     "execution_count": 12,
     "metadata": {},
     "output_type": "execute_result"
    }
   ],
   "source": [
    "df_kospi = pd.read_csv(\"dataset\\\\kospi.csv\",  encoding='UTF8') # 코스피 지수 불러오기\n",
    "df_kospi.head()"
   ]
  },
  {
   "cell_type": "code",
   "execution_count": 13,
   "id": "58e534d4",
   "metadata": {},
   "outputs": [
    {
     "name": "stdout",
     "output_type": "stream",
     "text": [
      "<class 'pandas.core.frame.DataFrame'>\n",
      "RangeIndex: 3956 entries, 0 to 3955\n",
      "Data columns (total 7 columns):\n",
      " #   Column  Non-Null Count  Dtype \n",
      "---  ------  --------------  ----- \n",
      " 0   날짜      3956 non-null   object\n",
      " 1   종가      3956 non-null   object\n",
      " 2   오픈      3956 non-null   object\n",
      " 3   고가      3956 non-null   object\n",
      " 4   저가      3956 non-null   object\n",
      " 5   거래량     3956 non-null   object\n",
      " 6   변동 %    3956 non-null   object\n",
      "dtypes: object(7)\n",
      "memory usage: 216.5+ KB\n"
     ]
    }
   ],
   "source": [
    "df_kospi.info()"
   ]
  },
  {
   "cell_type": "code",
   "execution_count": 14,
   "id": "3a5f1071",
   "metadata": {},
   "outputs": [
    {
     "name": "stdout",
     "output_type": "stream",
     "text": [
      "<class 'pandas.core.frame.DataFrame'>\n",
      "RangeIndex: 3956 entries, 0 to 3955\n",
      "Data columns (total 3 columns):\n",
      " #   Column             Non-Null Count  Dtype         \n",
      "---  ------             --------------  -----         \n",
      " 0   kospi_date         3956 non-null   datetime64[ns]\n",
      " 1   kospi_value        3956 non-null   object        \n",
      " 2   kospi_deal_amount  3956 non-null   object        \n",
      "dtypes: datetime64[ns](1), object(2)\n",
      "memory usage: 92.8+ KB\n"
     ]
    }
   ],
   "source": [
    "df_kospi = df_kospi[['날짜','종가','거래량']]\n",
    "df_kospi.columns = ['kospi_date','kospi_value','kospi_deal_amount']\n",
    "df_kospi['kospi_date'] = pd.to_datetime(df_kospi['kospi_date'])\n",
    "df_kospi.info()"
   ]
  },
  {
   "cell_type": "code",
   "execution_count": 15,
   "id": "9073d398",
   "metadata": {},
   "outputs": [
    {
     "data": {
      "text/html": [
       "<div>\n",
       "<style scoped>\n",
       "    .dataframe tbody tr th:only-of-type {\n",
       "        vertical-align: middle;\n",
       "    }\n",
       "\n",
       "    .dataframe tbody tr th {\n",
       "        vertical-align: top;\n",
       "    }\n",
       "\n",
       "    .dataframe thead th {\n",
       "        text-align: right;\n",
       "    }\n",
       "</style>\n",
       "<table border=\"1\" class=\"dataframe\">\n",
       "  <thead>\n",
       "    <tr style=\"text-align: right;\">\n",
       "      <th></th>\n",
       "      <th>kospi_date</th>\n",
       "      <th>kospi_value</th>\n",
       "      <th>kospi_deal_amount</th>\n",
       "      <th>real_estate_date</th>\n",
       "      <th>real_estate_value</th>\n",
       "    </tr>\n",
       "  </thead>\n",
       "  <tbody>\n",
       "    <tr>\n",
       "      <th>0</th>\n",
       "      <td>2022-12-29</td>\n",
       "      <td>2,236.40</td>\n",
       "      <td>361.19M</td>\n",
       "      <td>NaT</td>\n",
       "      <td>NaN</td>\n",
       "    </tr>\n",
       "    <tr>\n",
       "      <th>1</th>\n",
       "      <td>2022-12-28</td>\n",
       "      <td>2,280.45</td>\n",
       "      <td>405.89M</td>\n",
       "      <td>NaT</td>\n",
       "      <td>NaN</td>\n",
       "    </tr>\n",
       "    <tr>\n",
       "      <th>2</th>\n",
       "      <td>2022-12-27</td>\n",
       "      <td>2,332.79</td>\n",
       "      <td>448.50M</td>\n",
       "      <td>NaT</td>\n",
       "      <td>NaN</td>\n",
       "    </tr>\n",
       "    <tr>\n",
       "      <th>3</th>\n",
       "      <td>2022-12-26</td>\n",
       "      <td>2,317.14</td>\n",
       "      <td>427.84M</td>\n",
       "      <td>NaT</td>\n",
       "      <td>NaN</td>\n",
       "    </tr>\n",
       "    <tr>\n",
       "      <th>4</th>\n",
       "      <td>2022-12-23</td>\n",
       "      <td>2,313.69</td>\n",
       "      <td>366.99M</td>\n",
       "      <td>NaT</td>\n",
       "      <td>NaN</td>\n",
       "    </tr>\n",
       "  </tbody>\n",
       "</table>\n",
       "</div>"
      ],
      "text/plain": [
       "  kospi_date kospi_value kospi_deal_amount real_estate_date  real_estate_value\n",
       "0 2022-12-29    2,236.40           361.19M              NaT                NaN\n",
       "1 2022-12-28    2,280.45           405.89M              NaT                NaN\n",
       "2 2022-12-27    2,332.79           448.50M              NaT                NaN\n",
       "3 2022-12-26    2,317.14           427.84M              NaT                NaN\n",
       "4 2022-12-23    2,313.69           366.99M              NaT                NaN"
      ]
     },
     "execution_count": 15,
     "metadata": {},
     "output_type": "execute_result"
    }
   ],
   "source": [
    "df_final=pd.merge(df_kospi, df_real_estate, left_on='kospi_date', right_on='real_estate_date', how='left')\n",
    "df_final.head()"
   ]
  },
  {
   "cell_type": "code",
   "execution_count": 17,
   "id": "33220aeb",
   "metadata": {},
   "outputs": [
    {
     "data": {
      "text/html": [
       "<div>\n",
       "<style scoped>\n",
       "    .dataframe tbody tr th:only-of-type {\n",
       "        vertical-align: middle;\n",
       "    }\n",
       "\n",
       "    .dataframe tbody tr th {\n",
       "        vertical-align: top;\n",
       "    }\n",
       "\n",
       "    .dataframe thead th {\n",
       "        text-align: right;\n",
       "    }\n",
       "</style>\n",
       "<table border=\"1\" class=\"dataframe\">\n",
       "  <thead>\n",
       "    <tr style=\"text-align: right;\">\n",
       "      <th></th>\n",
       "      <th>kospi_date</th>\n",
       "      <th>kospi_value</th>\n",
       "      <th>kospi_deal_amount</th>\n",
       "      <th>real_estate_date</th>\n",
       "      <th>real_estate_value</th>\n",
       "    </tr>\n",
       "  </thead>\n",
       "  <tbody>\n",
       "    <tr>\n",
       "      <th>0</th>\n",
       "      <td>2022-12-29</td>\n",
       "      <td>2,236.40</td>\n",
       "      <td>361.19M</td>\n",
       "      <td>NaT</td>\n",
       "      <td>NaN</td>\n",
       "    </tr>\n",
       "    <tr>\n",
       "      <th>1</th>\n",
       "      <td>2022-12-28</td>\n",
       "      <td>2,280.45</td>\n",
       "      <td>405.89M</td>\n",
       "      <td>NaT</td>\n",
       "      <td>NaN</td>\n",
       "    </tr>\n",
       "    <tr>\n",
       "      <th>2</th>\n",
       "      <td>2022-12-27</td>\n",
       "      <td>2,332.79</td>\n",
       "      <td>448.50M</td>\n",
       "      <td>NaT</td>\n",
       "      <td>NaN</td>\n",
       "    </tr>\n",
       "    <tr>\n",
       "      <th>3</th>\n",
       "      <td>2022-12-26</td>\n",
       "      <td>2,317.14</td>\n",
       "      <td>427.84M</td>\n",
       "      <td>NaT</td>\n",
       "      <td>NaN</td>\n",
       "    </tr>\n",
       "    <tr>\n",
       "      <th>4</th>\n",
       "      <td>2022-12-23</td>\n",
       "      <td>2,313.69</td>\n",
       "      <td>366.99M</td>\n",
       "      <td>NaT</td>\n",
       "      <td>NaN</td>\n",
       "    </tr>\n",
       "  </tbody>\n",
       "</table>\n",
       "</div>"
      ],
      "text/plain": [
       "  kospi_date kospi_value kospi_deal_amount real_estate_date  real_estate_value\n",
       "0 2022-12-29    2,236.40           361.19M              NaT                NaN\n",
       "1 2022-12-28    2,280.45           405.89M              NaT                NaN\n",
       "2 2022-12-27    2,332.79           448.50M              NaT                NaN\n",
       "3 2022-12-26    2,317.14           427.84M              NaT                NaN\n",
       "4 2022-12-23    2,313.69           366.99M              NaT                NaN"
      ]
     },
     "execution_count": 17,
     "metadata": {},
     "output_type": "execute_result"
    }
   ],
   "source": [
    "df_final=df_final.bfill(axis='rows')\n",
    "df_final.head()"
   ]
  },
  {
   "cell_type": "code",
   "execution_count": null,
   "id": "052ba6bc",
   "metadata": {},
   "outputs": [],
   "source": []
  }
 ],
 "metadata": {
  "kernelspec": {
   "display_name": "Python 3 (ipykernel)",
   "language": "python",
   "name": "python3"
  },
  "language_info": {
   "codemirror_mode": {
    "name": "ipython",
    "version": 3
   },
   "file_extension": ".py",
   "mimetype": "text/x-python",
   "name": "python",
   "nbconvert_exporter": "python",
   "pygments_lexer": "ipython3",
   "version": "3.9.13"
  }
 },
 "nbformat": 4,
 "nbformat_minor": 5
}
